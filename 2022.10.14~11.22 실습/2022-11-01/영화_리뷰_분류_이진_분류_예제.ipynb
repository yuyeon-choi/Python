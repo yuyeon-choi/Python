{
  "nbformat": 4,
  "nbformat_minor": 0,
  "metadata": {
    "colab": {
      "provenance": []
    },
    "kernelspec": {
      "name": "python3",
      "display_name": "Python 3"
    },
    "language_info": {
      "name": "python"
    }
  },
  "cells": [
    {
      "cell_type": "code",
      "execution_count": 1,
      "metadata": {
        "colab": {
          "base_uri": "https://localhost:8080/"
        },
        "id": "pvrWU1KNhrWF",
        "outputId": "d431c06c-98a8-4761-decd-457cab824b84"
      },
      "outputs": [
        {
          "output_type": "stream",
          "name": "stdout",
          "text": [
            "2.9.0\n"
          ]
        }
      ],
      "source": [
        "import keras\n",
        "print(keras.__version__)"
      ]
    },
    {
      "cell_type": "code",
      "source": [
        "from keras.datasets import imdb\n",
        "(train_data, train_labels), (test_data, test_labels) = imdb.load_data(num_words=10000)\n",
        "# 자주 사용되는 10000개의 데이터를 가져옴"
      ],
      "metadata": {
        "id": "lPNpb1Zzh7FM"
      },
      "execution_count": 2,
      "outputs": []
    },
    {
      "cell_type": "code",
      "source": [
        "train_data.shape"
      ],
      "metadata": {
        "colab": {
          "base_uri": "https://localhost:8080/"
        },
        "id": "gHrxS0QIiwUE",
        "outputId": "9a1e7ba8-9d36-454b-db77-33627813d5c3"
      },
      "execution_count": 3,
      "outputs": [
        {
          "output_type": "execute_result",
          "data": {
            "text/plain": [
              "(25000,)"
            ]
          },
          "metadata": {},
          "execution_count": 3
        }
      ]
    },
    {
      "cell_type": "code",
      "source": [
        "train_data[0]"
      ],
      "metadata": {
        "colab": {
          "base_uri": "https://localhost:8080/"
        },
        "id": "P69N5ee4i-vc",
        "outputId": "84a20c4c-e352-465f-edb8-c9e0baa8ef14"
      },
      "execution_count": 4,
      "outputs": [
        {
          "output_type": "execute_result",
          "data": {
            "text/plain": [
              "[1,\n",
              " 14,\n",
              " 22,\n",
              " 16,\n",
              " 43,\n",
              " 530,\n",
              " 973,\n",
              " 1622,\n",
              " 1385,\n",
              " 65,\n",
              " 458,\n",
              " 4468,\n",
              " 66,\n",
              " 3941,\n",
              " 4,\n",
              " 173,\n",
              " 36,\n",
              " 256,\n",
              " 5,\n",
              " 25,\n",
              " 100,\n",
              " 43,\n",
              " 838,\n",
              " 112,\n",
              " 50,\n",
              " 670,\n",
              " 2,\n",
              " 9,\n",
              " 35,\n",
              " 480,\n",
              " 284,\n",
              " 5,\n",
              " 150,\n",
              " 4,\n",
              " 172,\n",
              " 112,\n",
              " 167,\n",
              " 2,\n",
              " 336,\n",
              " 385,\n",
              " 39,\n",
              " 4,\n",
              " 172,\n",
              " 4536,\n",
              " 1111,\n",
              " 17,\n",
              " 546,\n",
              " 38,\n",
              " 13,\n",
              " 447,\n",
              " 4,\n",
              " 192,\n",
              " 50,\n",
              " 16,\n",
              " 6,\n",
              " 147,\n",
              " 2025,\n",
              " 19,\n",
              " 14,\n",
              " 22,\n",
              " 4,\n",
              " 1920,\n",
              " 4613,\n",
              " 469,\n",
              " 4,\n",
              " 22,\n",
              " 71,\n",
              " 87,\n",
              " 12,\n",
              " 16,\n",
              " 43,\n",
              " 530,\n",
              " 38,\n",
              " 76,\n",
              " 15,\n",
              " 13,\n",
              " 1247,\n",
              " 4,\n",
              " 22,\n",
              " 17,\n",
              " 515,\n",
              " 17,\n",
              " 12,\n",
              " 16,\n",
              " 626,\n",
              " 18,\n",
              " 2,\n",
              " 5,\n",
              " 62,\n",
              " 386,\n",
              " 12,\n",
              " 8,\n",
              " 316,\n",
              " 8,\n",
              " 106,\n",
              " 5,\n",
              " 4,\n",
              " 2223,\n",
              " 5244,\n",
              " 16,\n",
              " 480,\n",
              " 66,\n",
              " 3785,\n",
              " 33,\n",
              " 4,\n",
              " 130,\n",
              " 12,\n",
              " 16,\n",
              " 38,\n",
              " 619,\n",
              " 5,\n",
              " 25,\n",
              " 124,\n",
              " 51,\n",
              " 36,\n",
              " 135,\n",
              " 48,\n",
              " 25,\n",
              " 1415,\n",
              " 33,\n",
              " 6,\n",
              " 22,\n",
              " 12,\n",
              " 215,\n",
              " 28,\n",
              " 77,\n",
              " 52,\n",
              " 5,\n",
              " 14,\n",
              " 407,\n",
              " 16,\n",
              " 82,\n",
              " 2,\n",
              " 8,\n",
              " 4,\n",
              " 107,\n",
              " 117,\n",
              " 5952,\n",
              " 15,\n",
              " 256,\n",
              " 4,\n",
              " 2,\n",
              " 7,\n",
              " 3766,\n",
              " 5,\n",
              " 723,\n",
              " 36,\n",
              " 71,\n",
              " 43,\n",
              " 530,\n",
              " 476,\n",
              " 26,\n",
              " 400,\n",
              " 317,\n",
              " 46,\n",
              " 7,\n",
              " 4,\n",
              " 2,\n",
              " 1029,\n",
              " 13,\n",
              " 104,\n",
              " 88,\n",
              " 4,\n",
              " 381,\n",
              " 15,\n",
              " 297,\n",
              " 98,\n",
              " 32,\n",
              " 2071,\n",
              " 56,\n",
              " 26,\n",
              " 141,\n",
              " 6,\n",
              " 194,\n",
              " 7486,\n",
              " 18,\n",
              " 4,\n",
              " 226,\n",
              " 22,\n",
              " 21,\n",
              " 134,\n",
              " 476,\n",
              " 26,\n",
              " 480,\n",
              " 5,\n",
              " 144,\n",
              " 30,\n",
              " 5535,\n",
              " 18,\n",
              " 51,\n",
              " 36,\n",
              " 28,\n",
              " 224,\n",
              " 92,\n",
              " 25,\n",
              " 104,\n",
              " 4,\n",
              " 226,\n",
              " 65,\n",
              " 16,\n",
              " 38,\n",
              " 1334,\n",
              " 88,\n",
              " 12,\n",
              " 16,\n",
              " 283,\n",
              " 5,\n",
              " 16,\n",
              " 4472,\n",
              " 113,\n",
              " 103,\n",
              " 32,\n",
              " 15,\n",
              " 16,\n",
              " 5345,\n",
              " 19,\n",
              " 178,\n",
              " 32]"
            ]
          },
          "metadata": {},
          "execution_count": 4
        }
      ]
    },
    {
      "cell_type": "code",
      "source": [
        "train_labels[0]"
      ],
      "metadata": {
        "colab": {
          "base_uri": "https://localhost:8080/"
        },
        "id": "kNiVSp-QjILS",
        "outputId": "b106f016-4416-4009-ea23-daaaad5b50ca"
      },
      "execution_count": 5,
      "outputs": [
        {
          "output_type": "execute_result",
          "data": {
            "text/plain": [
              "1"
            ]
          },
          "metadata": {},
          "execution_count": 5
        }
      ]
    },
    {
      "cell_type": "code",
      "source": [
        "word_index = imdb.get_word_index()\n",
        "word_index\n",
        "reverse_word_index = dict([value, key] for (key, value)in word_index.items())"
      ],
      "metadata": {
        "id": "QJ1LKN65j9HV"
      },
      "execution_count": 6,
      "outputs": []
    },
    {
      "cell_type": "code",
      "source": [
        "decoded_review = ' '.join(reverse_word_index.get(i-3, '?') for i in train_data[0])\n",
        "decoded_review"
      ],
      "metadata": {
        "colab": {
          "base_uri": "https://localhost:8080/",
          "height": 227
        },
        "id": "XpIZOfF-lJ47",
        "outputId": "0eca8bdc-ff45-4599-f307-fdca5bf547f0"
      },
      "execution_count": 7,
      "outputs": [
        {
          "output_type": "execute_result",
          "data": {
            "text/plain": [
              "\"? this film was just brilliant casting location scenery story direction everyone's really suited the part they played and you could just imagine being there robert ? is an amazing actor and now the same being director ? father came from the same scottish island as myself so i loved the fact there was a real connection with this film the witty remarks throughout the film were great it was just brilliant so much that i bought the film as soon as it was released for ? and would recommend it to everyone to watch and the fly fishing was amazing really cried at the end it was so sad and you know what they say if you cry at a film it must have been good and this definitely was also ? to the two little boy's that played the ? of norman and paul they were just brilliant children are often left out of the ? list i think because the stars that play them all grown up are such a big profile for the whole film but these children are amazing and should be praised for what they have done don't you think the whole story was so lovely because it was true and was someone's life after all that was shared with us all\""
            ],
            "application/vnd.google.colaboratory.intrinsic+json": {
              "type": "string"
            }
          },
          "metadata": {},
          "execution_count": 7
        }
      ]
    },
    {
      "cell_type": "code",
      "source": [
        "type(reverse_word_index)"
      ],
      "metadata": {
        "colab": {
          "base_uri": "https://localhost:8080/"
        },
        "id": "PoN0NW4vmtmv",
        "outputId": "2e88ec7e-1066-42f4-ed31-6796456c1711"
      },
      "execution_count": 8,
      "outputs": [
        {
          "output_type": "execute_result",
          "data": {
            "text/plain": [
              "dict"
            ]
          },
          "metadata": {},
          "execution_count": 8
        }
      ]
    },
    {
      "cell_type": "code",
      "source": [
        "# 데이터를 준비\n",
        "import numpy as np\n",
        "\n",
        "def vectorize_sequences(sequences, dimension=10000):\n",
        "  results = np.zeros((len(sequences),dimension))\n",
        "  \n",
        "  return results"
      ],
      "metadata": {
        "id": "cE1CBosTnqrl"
      },
      "execution_count": 9,
      "outputs": []
    },
    {
      "cell_type": "code",
      "source": [
        "for i, c in enumerate(['A', 'B', 'C'], start=1):    # enumerate : 인덱스 번호가 같이 붙음(i: 인덱스, c: ABC)\n",
        "  print(i, c)                                       # start=1 : 인덱스 번호 '1'부터 시작"
      ],
      "metadata": {
        "colab": {
          "base_uri": "https://localhost:8080/"
        },
        "id": "QEEkEo3frQVj",
        "outputId": "164c9d14-b4fe-4769-b102-43137c13ab58"
      },
      "execution_count": 10,
      "outputs": [
        {
          "output_type": "stream",
          "name": "stdout",
          "text": [
            "1 A\n",
            "2 B\n",
            "3 C\n"
          ]
        }
      ]
    },
    {
      "cell_type": "code",
      "source": [
        "temp = enumerate(['A', 'B', 'C'])\n",
        "next(temp)\n",
        "next(temp)\n",
        "next(temp)\n",
        "#list(temp) # enumerate 타입을 list 타입으로 변환 (enumerate는 튜플타입이라 원하는 타입으로 변경해서 사용가능)"
      ],
      "metadata": {
        "colab": {
          "base_uri": "https://localhost:8080/"
        },
        "id": "bMHvy7Wpu4Yl",
        "outputId": "30360238-33d6-4ebc-ffb1-07e2bdd7408e"
      },
      "execution_count": 11,
      "outputs": [
        {
          "output_type": "execute_result",
          "data": {
            "text/plain": [
              "(2, 'C')"
            ]
          },
          "metadata": {},
          "execution_count": 11
        }
      ]
    },
    {
      "cell_type": "markdown",
      "source": [
        "***   \n",
        "***"
      ],
      "metadata": {
        "id": "ZetNEJlK0vqF"
      }
    },
    {
      "cell_type": "code",
      "source": [
        "# 데이터를 준비\n",
        "import numpy as np\n",
        "\n",
        "def vectorize_sequences(sequences, dimension=10000):  # train_data 가 sequences로 감\n",
        "  results = np.zeros((len(sequences),dimension))\n",
        "\n",
        "  for i, sequence in enumerate(sequences):\n",
        "    results[i, sequence] = 1\n",
        "\n",
        "  return results\n",
        "\n",
        "# Data의 Encoding\n",
        "x_train = vectorize_sequences(train_data)\n",
        "x_test = vectorize_sequences(test_data)"
      ],
      "metadata": {
        "id": "QOEbraUZ0RL1"
      },
      "execution_count": 12,
      "outputs": []
    },
    {
      "cell_type": "code",
      "source": [
        "print(x_train[0])"
      ],
      "metadata": {
        "colab": {
          "base_uri": "https://localhost:8080/"
        },
        "id": "U6XWsjfkwWpU",
        "outputId": "acfbd9de-b617-4fca-a76d-f77495fc7136"
      },
      "execution_count": 13,
      "outputs": [
        {
          "output_type": "stream",
          "name": "stdout",
          "text": [
            "[0. 1. 1. ... 0. 0. 0.]\n"
          ]
        }
      ]
    },
    {
      "cell_type": "code",
      "source": [
        "# float type으로 변환\n",
        "y_train = np.asarray(train_labels).astype('float32')\n",
        "y_test = np.asarray(test_labels).astype('float32')"
      ],
      "metadata": {
        "id": "cnH4fH1J0MIo"
      },
      "execution_count": 14,
      "outputs": []
    },
    {
      "cell_type": "code",
      "source": [
        "# 신경망의 구축\n",
        "from keras import models\n",
        "from keras import layers\n",
        "\n",
        "model = models.Sequential()\n",
        "model.add(layers.Dense(16, activation='relu', input_shape=(10000,)))\n",
        "model.add(layers.Dense(16, activation='relu'))\n",
        "model.add(layers.Dense(1, activation='sigmoid'))"
      ],
      "metadata": {
        "id": "rQ5iUCZD0uS9"
      },
      "execution_count": 40,
      "outputs": []
    },
    {
      "cell_type": "code",
      "source": [
        "from tensorflow.keras import optimizers\n",
        "model.compile(optimizer=optimizers.RMSprop(lr=0.001),\n",
        "              loss='binary_crossentropy',\n",
        "              metrics=['accuracy'])\n",
        "\n",
        "# optimizer='rmsprop'를 옆에 코드로 변경함(오버피팅, 과하게 학습하는 것을 막기위해서)"
      ],
      "metadata": {
        "id": "qd3uAYtB2K2V"
      },
      "execution_count": 42,
      "outputs": []
    },
    {
      "cell_type": "code",
      "source": [
        "x_val = x_train[:10000]\n",
        "partial_x_train = x_train[10000:]\n",
        "\n",
        "y_val = y_train[:10000]\n",
        "partial_y_train = y_train[10000:]"
      ],
      "metadata": {
        "id": "e7yuZOhk3EIT"
      },
      "execution_count": 19,
      "outputs": []
    },
    {
      "cell_type": "code",
      "source": [
        "history = model.fit(partial_x_train,\n",
        "                    partial_y_train,\n",
        "                    epochs=20,\n",
        "                    batch_size=512,\n",
        "                    validation_data=(x_val, y_val))"
      ],
      "metadata": {
        "colab": {
          "base_uri": "https://localhost:8080/"
        },
        "id": "j8bjE-vF9wuz",
        "outputId": "ae5cf18a-519b-455e-8027-3cc591f9fb39"
      },
      "execution_count": 43,
      "outputs": [
        {
          "output_type": "stream",
          "name": "stdout",
          "text": [
            "Epoch 1/20\n",
            "30/30 [==============================] - 3s 77ms/step - loss: 0.5319 - accuracy: 0.7887 - val_loss: 0.4010 - val_accuracy: 0.8699\n",
            "Epoch 2/20\n",
            "30/30 [==============================] - 1s 46ms/step - loss: 0.3189 - accuracy: 0.9005 - val_loss: 0.3110 - val_accuracy: 0.8852\n",
            "Epoch 3/20\n",
            "30/30 [==============================] - 1s 47ms/step - loss: 0.2327 - accuracy: 0.9257 - val_loss: 0.2815 - val_accuracy: 0.8906\n",
            "Epoch 4/20\n",
            "30/30 [==============================] - 1s 45ms/step - loss: 0.1837 - accuracy: 0.9404 - val_loss: 0.2720 - val_accuracy: 0.8921\n",
            "Epoch 5/20\n",
            "30/30 [==============================] - 1s 43ms/step - loss: 0.1487 - accuracy: 0.9533 - val_loss: 0.2833 - val_accuracy: 0.8868\n",
            "Epoch 6/20\n",
            "30/30 [==============================] - 1s 47ms/step - loss: 0.1230 - accuracy: 0.9613 - val_loss: 0.2913 - val_accuracy: 0.8869\n",
            "Epoch 7/20\n",
            "30/30 [==============================] - 2s 51ms/step - loss: 0.1038 - accuracy: 0.9674 - val_loss: 0.3041 - val_accuracy: 0.8848\n",
            "Epoch 8/20\n",
            "30/30 [==============================] - 2s 70ms/step - loss: 0.0856 - accuracy: 0.9757 - val_loss: 0.3235 - val_accuracy: 0.8827\n",
            "Epoch 9/20\n",
            "30/30 [==============================] - 2s 51ms/step - loss: 0.0746 - accuracy: 0.9790 - val_loss: 0.3695 - val_accuracy: 0.8734\n",
            "Epoch 10/20\n",
            "30/30 [==============================] - 1s 45ms/step - loss: 0.0590 - accuracy: 0.9856 - val_loss: 0.3659 - val_accuracy: 0.8796\n",
            "Epoch 11/20\n",
            "30/30 [==============================] - 1s 44ms/step - loss: 0.0495 - accuracy: 0.9874 - val_loss: 0.3966 - val_accuracy: 0.8780\n",
            "Epoch 12/20\n",
            "30/30 [==============================] - 1s 46ms/step - loss: 0.0407 - accuracy: 0.9914 - val_loss: 0.4284 - val_accuracy: 0.8750\n",
            "Epoch 13/20\n",
            "30/30 [==============================] - 1s 47ms/step - loss: 0.0337 - accuracy: 0.9919 - val_loss: 0.4664 - val_accuracy: 0.8722\n",
            "Epoch 14/20\n",
            "30/30 [==============================] - 1s 47ms/step - loss: 0.0257 - accuracy: 0.9955 - val_loss: 0.5203 - val_accuracy: 0.8643\n",
            "Epoch 15/20\n",
            "30/30 [==============================] - 1s 47ms/step - loss: 0.0234 - accuracy: 0.9956 - val_loss: 0.5337 - val_accuracy: 0.8698\n",
            "Epoch 16/20\n",
            "30/30 [==============================] - 1s 41ms/step - loss: 0.0162 - accuracy: 0.9976 - val_loss: 0.5774 - val_accuracy: 0.8666\n",
            "Epoch 17/20\n",
            "30/30 [==============================] - 1s 47ms/step - loss: 0.0128 - accuracy: 0.9986 - val_loss: 0.6183 - val_accuracy: 0.8636\n",
            "Epoch 18/20\n",
            "30/30 [==============================] - 1s 42ms/step - loss: 0.0135 - accuracy: 0.9977 - val_loss: 0.6433 - val_accuracy: 0.8640\n",
            "Epoch 19/20\n",
            "30/30 [==============================] - 1s 39ms/step - loss: 0.0063 - accuracy: 0.9998 - val_loss: 0.7075 - val_accuracy: 0.8636\n",
            "Epoch 20/20\n",
            "30/30 [==============================] - 1s 38ms/step - loss: 0.0088 - accuracy: 0.9987 - val_loss: 0.7111 - val_accuracy: 0.8655\n"
          ]
        }
      ]
    },
    {
      "cell_type": "code",
      "source": [
        "# 실험 결과 데이터를 가져온다.\n",
        "\n",
        "acc = history.history['accuracy']\n",
        "val_acc = history.history['val_accuracy']\n",
        "loss = history.history['loss']\n",
        "val_loss = history.history['val_loss']\n",
        "epochs = range(1, len(acc)+1)"
      ],
      "metadata": {
        "id": "oybPwDiD_Gy6"
      },
      "execution_count": 45,
      "outputs": []
    },
    {
      "cell_type": "code",
      "source": [
        "# 실험 결과를 시각화 한다. \n",
        "import matplotlib.pyplot as plt\n",
        "\n",
        "plt.plot(epochs, loss, 'bo', label='Training Loss')\n",
        "plt.plot(epochs, val_loss,'b-', label='Validation Loss')\n",
        "plt.title('Training and validation loss')\n",
        "plt.xlabel('Epochs')\n",
        "plt.ylabel('Loss')\n",
        "plt.legend()"
      ],
      "metadata": {
        "colab": {
          "base_uri": "https://localhost:8080/",
          "height": 312
        },
        "id": "MEZ7oqgPAFjN",
        "outputId": "bbbb539b-4c3c-4f2a-f664-e85d018808a1"
      },
      "execution_count": 46,
      "outputs": [
        {
          "output_type": "execute_result",
          "data": {
            "text/plain": [
              "<matplotlib.legend.Legend at 0x7f919d692250>"
            ]
          },
          "metadata": {},
          "execution_count": 46
        },
        {
          "output_type": "display_data",
          "data": {
            "text/plain": [
              "<Figure size 432x288 with 1 Axes>"
            ],
            "image/png": "[encoded data removed]"
          },
          "metadata": {
            "needs_background": "light"
          }
        }
      ]
    },
    {
      "cell_type": "code",
      "source": [
        "plt.plot(epochs, acc, 'bo', label='Training acc')\n",
        "plt.plot(epochs, val_acc, 'b-', label='Validation acc')\n",
        "plt.title('Training and validation accuracy')\n",
        "plt.xlabel('Epochs')\n",
        "plt.ylabel('Accuracy')\n",
        "plt.legend()"
      ],
      "metadata": {
        "colab": {
          "base_uri": "https://localhost:8080/",
          "height": 312
        },
        "id": "5JLJ_afuAykO",
        "outputId": "de148f87-8881-463c-ae58-3fb66ff2212e"
      },
      "execution_count": 35,
      "outputs": [
        {
          "output_type": "execute_result",
          "data": {
            "text/plain": [
              "<matplotlib.legend.Legend at 0x7f919e3632d0>"
            ]
          },
          "metadata": {},
          "execution_count": 35
        },
        {
          "output_type": "display_data",
          "data": {
            "text/plain": [
              "<Figure size 432x288 with 1 Axes>"
            ],
            "image/png": "[encoded data removed]"
          },
          "metadata": {
            "needs_background": "light"
          }
        }
      ]
    },
    {
      "cell_type": "code",
      "source": [
        "# 신경망의 구축, model compile 부분 다시 실행하고 돌리기\n",
        "history = model.fit(partial_x_train,\n",
        "                    partial_y_train,\n",
        "                    epochs=3,\n",
        "                    batch_size=256,\n",
        "                    validation_data=(x_val, y_val))"
      ],
      "metadata": {
        "colab": {
          "base_uri": "https://localhost:8080/"
        },
        "id": "HVpWta1JDG2F",
        "outputId": "c5755811-3e75-41b9-bfe8-c717e9c38ec7"
      },
      "execution_count": 39,
      "outputs": [
        {
          "output_type": "stream",
          "name": "stdout",
          "text": [
            "Epoch 1/3\n",
            "59/59 [==============================] - 2s 30ms/step - loss: 0.1753 - accuracy: 0.9417 - val_loss: 0.3043 - val_accuracy: 0.8781\n",
            "Epoch 2/3\n",
            "59/59 [==============================] - 2s 32ms/step - loss: 0.1317 - accuracy: 0.9557 - val_loss: 0.3249 - val_accuracy: 0.8793\n",
            "Epoch 3/3\n",
            "59/59 [==============================] - 2s 32ms/step - loss: 0.1041 - accuracy: 0.9650 - val_loss: 0.3239 - val_accuracy: 0.8811\n"
          ]
        }
      ]
    },
    {
      "cell_type": "code",
      "source": [],
      "metadata": {
        "id": "h50yic7yD4Tg"
      },
      "execution_count": null,
      "outputs": []
    }
  ]
}