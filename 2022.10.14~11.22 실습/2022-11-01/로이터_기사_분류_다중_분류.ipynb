{
  "nbformat": 4,
  "nbformat_minor": 0,
  "metadata": {
    "colab": {
      "provenance": []
    },
    "kernelspec": {
      "name": "python3",
      "display_name": "Python 3"
    },
    "language_info": {
      "name": "python"
    }
  },
  "cells": [
    {
      "cell_type": "code",
      "execution_count": 1,
      "metadata": {
        "id": "X6-UrSUBYHry"
      },
      "outputs": [],
      "source": [
        "import keras\n",
        "import numpy as np\n",
        "import matplotlib.pyplot as plt"
      ]
    },
    {
      "cell_type": "code",
      "source": [
        "# 로이터 기사 데이터 셋을 로딩합니다.\n",
        "\n",
        "from keras.datasets import reuters\n",
        "(train_data, train_labels), (test_data, test_labels) = reuters.load_data(num_words=10000)"
      ],
      "metadata": {
        "colab": {
          "base_uri": "https://localhost:8080/"
        },
        "id": "ZHD71q5jYc1i",
        "outputId": "0da1b84b-70ca-4c53-bd73-9135631baad9"
      },
      "execution_count": 3,
      "outputs": [
        {
          "output_type": "stream",
          "name": "stdout",
          "text": [
            "Downloading data from https://storage.googleapis.com/tensorflow/tf-keras-datasets/reuters.npz\n",
            "2110848/2110848 [==============================] - 0s 0us/step\n"
          ]
        }
      ]
    },
    {
      "cell_type": "code",
      "source": [
        "train_data.shape"
      ],
      "metadata": {
        "colab": {
          "base_uri": "https://localhost:8080/"
        },
        "id": "VL5luV1tZRSW",
        "outputId": "354bb8ba-a2d3-442e-98f8-a61b686807b1"
      },
      "execution_count": 12,
      "outputs": [
        {
          "output_type": "execute_result",
          "data": {
            "text/plain": [
              "(8982,)"
            ]
          },
          "metadata": {},
          "execution_count": 12
        }
      ]
    },
    {
      "cell_type": "code",
      "source": [
        "train_data[0]"
      ],
      "metadata": {
        "colab": {
          "base_uri": "https://localhost:8080/"
        },
        "id": "1IyVZRicdTtB",
        "outputId": "562a2159-7ed0-4509-b080-a693567ea8c3"
      },
      "execution_count": 13,
      "outputs": [
        {
          "output_type": "execute_result",
          "data": {
            "text/plain": [
              "[1,\n",
              " 2,\n",
              " 2,\n",
              " 8,\n",
              " 43,\n",
              " 10,\n",
              " 447,\n",
              " 5,\n",
              " 25,\n",
              " 207,\n",
              " 270,\n",
              " 5,\n",
              " 3095,\n",
              " 111,\n",
              " 16,\n",
              " 369,\n",
              " 186,\n",
              " 90,\n",
              " 67,\n",
              " 7,\n",
              " 89,\n",
              " 5,\n",
              " 19,\n",
              " 102,\n",
              " 6,\n",
              " 19,\n",
              " 124,\n",
              " 15,\n",
              " 90,\n",
              " 67,\n",
              " 84,\n",
              " 22,\n",
              " 482,\n",
              " 26,\n",
              " 7,\n",
              " 48,\n",
              " 4,\n",
              " 49,\n",
              " 8,\n",
              " 864,\n",
              " 39,\n",
              " 209,\n",
              " 154,\n",
              " 6,\n",
              " 151,\n",
              " 6,\n",
              " 83,\n",
              " 11,\n",
              " 15,\n",
              " 22,\n",
              " 155,\n",
              " 11,\n",
              " 15,\n",
              " 7,\n",
              " 48,\n",
              " 9,\n",
              " 4579,\n",
              " 1005,\n",
              " 504,\n",
              " 6,\n",
              " 258,\n",
              " 6,\n",
              " 272,\n",
              " 11,\n",
              " 15,\n",
              " 22,\n",
              " 134,\n",
              " 44,\n",
              " 11,\n",
              " 15,\n",
              " 16,\n",
              " 8,\n",
              " 197,\n",
              " 1245,\n",
              " 90,\n",
              " 67,\n",
              " 52,\n",
              " 29,\n",
              " 209,\n",
              " 30,\n",
              " 32,\n",
              " 132,\n",
              " 6,\n",
              " 109,\n",
              " 15,\n",
              " 17,\n",
              " 12]"
            ]
          },
          "metadata": {},
          "execution_count": 13
        }
      ]
    },
    {
      "cell_type": "code",
      "source": [
        "word_index = reuters.get_word_index()\n",
        "reverse_word_index = dict([value, key] for (key, value) in word_index.items())\n",
        "\n",
        "decoded_newswire = ' '.join([reverse_word_index.get(i-3, '?') for i in train_data[0]])"
      ],
      "metadata": {
        "id": "nHy-Pu28ZjUL"
      },
      "execution_count": 33,
      "outputs": []
    },
    {
      "cell_type": "code",
      "source": [
        "decoded_newswire"
      ],
      "metadata": {
        "colab": {
          "base_uri": "https://localhost:8080/",
          "height": 105
        },
        "id": "c6YKUhf4ts_C",
        "outputId": "d7cd4d0b-361f-4c56-84ef-830bbc7953fb"
      },
      "execution_count": 43,
      "outputs": [
        {
          "output_type": "execute_result",
          "data": {
            "text/plain": [
              "'? ? ? said as a result of its december acquisition of space co it expects earnings per share in 1987 of 1 15 to 1 30 dlrs per share up from 70 cts in 1986 the company said pretax net should rise to nine to 10 mln dlrs from six mln dlrs in 1986 and rental operation revenues to 19 to 22 mln dlrs from 12 5 mln dlrs it said cash flow per share this year should be 2 50 to three dlrs reuter 3'"
            ],
            "application/vnd.google.colaboratory.intrinsic+json": {
              "type": "string"
            }
          },
          "metadata": {},
          "execution_count": 43
        }
      ]
    },
    {
      "cell_type": "code",
      "source": [
        "train_labels[0]"
      ],
      "metadata": {
        "colab": {
          "base_uri": "https://localhost:8080/"
        },
        "id": "pECSA9A5Zpfx",
        "outputId": "b478dd2a-5eb2-4ba5-c7d1-7b991713a0ae"
      },
      "execution_count": 34,
      "outputs": [
        {
          "output_type": "execute_result",
          "data": {
            "text/plain": [
              "3"
            ]
          },
          "metadata": {},
          "execution_count": 34
        }
      ]
    },
    {
      "cell_type": "code",
      "source": [
        "# 데이터의 준비\n",
        "def vectorize_sequences(sequences, dimension=10000):\n",
        "\n",
        "  results = np.zeros((len(sequences), dimension))\n",
        "\n",
        "  for i, sequences in enumerate(sequences):\n",
        "    results[i, sequences] = 1\n",
        "\n",
        "  return results\n",
        "\n",
        "# 데이터의 변환\n",
        "x_train = vectorize_sequences(train_data)\n",
        "x_test = vectorize_sequences(test_data)"
      ],
      "metadata": {
        "id": "uCPeetJ3ZpNl"
      },
      "execution_count": 35,
      "outputs": []
    },
    {
      "cell_type": "code",
      "source": [
        "train_labels"
      ],
      "metadata": {
        "colab": {
          "base_uri": "https://localhost:8080/"
        },
        "id": "CAy-zXNobyV5",
        "outputId": "44798a84-298c-4943-941d-221294b0383a"
      },
      "execution_count": 36,
      "outputs": [
        {
          "output_type": "execute_result",
          "data": {
            "text/plain": [
              "array([ 3,  4,  3, ..., 25,  3, 25])"
            ]
          },
          "metadata": {},
          "execution_count": 36
        }
      ]
    },
    {
      "cell_type": "code",
      "source": [
        "# 라벨 데이터의 엔코딩\n",
        "def to_one_hot(labels, dimension=46):\n",
        "  results = np.zeros((len(labels), dimension))\n",
        "\n",
        "  for i, sequence in enumerate(labels):\n",
        "    results[i, sequence] = 1\n",
        "\n",
        "  return results\n",
        "\n",
        "one_hot_train_labels = to_one_hot(train_labels)\n",
        "one_hot_test_labels = to_one_hot(test_labels)"
      ],
      "metadata": {
        "id": "KQxSR3bhcAxj"
      },
      "execution_count": 37,
      "outputs": []
    },
    {
      "cell_type": "code",
      "source": [
        "# cateogorical 데이터로 변환\n",
        "from keras.utils.np_utils import to_categorical\n",
        "\n",
        "one_hot_train_labels = to_categorical(train_labels)\n",
        "one_hot_test_labels = to_categorical(test_labels)"
      ],
      "metadata": {
        "id": "uR8gusUEemDv"
      },
      "execution_count": 38,
      "outputs": []
    },
    {
      "cell_type": "code",
      "source": [
        "# 신경망을 구성합니다. \n",
        "\n",
        "from keras import models\n",
        "from keras import layers\n",
        "\n",
        "model = models.Sequential()\n",
        "model.add(layers.Dense(64, activation='relu', input_shape=(10000,)))\n",
        "model.add(layers.Dense(64, activation='relu')) #64, 1000이랑 결과 비슷함. 최소한의 파라미터로 최적의 결과를 내야 좋음 \n",
        "model.add(layers.Dense(46, activation='softmax'))"
      ],
      "metadata": {
        "id": "6gIZoXGXfwf1"
      },
      "execution_count": 45,
      "outputs": []
    },
    {
      "cell_type": "code",
      "source": [
        "model.summary()"
      ],
      "metadata": {
        "colab": {
          "base_uri": "https://localhost:8080/"
        },
        "id": "DJ6jfug8hNrb",
        "outputId": "a5e9e392-861e-4378-8a09-b036303e1f9e"
      },
      "execution_count": 46,
      "outputs": [
        {
          "output_type": "stream",
          "name": "stdout",
          "text": [
            "Model: \"sequential_4\"\n",
            "_________________________________________________________________\n",
            " Layer (type)                Output Shape              Param #   \n",
            "=================================================================\n",
            " dense_12 (Dense)            (None, 64)                640064    \n",
            "                                                                 \n",
            " dense_13 (Dense)            (None, 1000)              65000     \n",
            "                                                                 \n",
            " dense_14 (Dense)            (None, 46)                46046     \n",
            "                                                                 \n",
            "=================================================================\n",
            "Total params: 751,110\n",
            "Trainable params: 751,110\n",
            "Non-trainable params: 0\n",
            "_________________________________________________________________\n"
          ]
        }
      ]
    },
    {
      "cell_type": "code",
      "source": [
        "model.compile(optimizer='rmsprop',\n",
        "               loss = 'categorical_crossentropy',\n",
        "               metrics=['accuracy'])"
      ],
      "metadata": {
        "id": "wfRdclRFhPgJ"
      },
      "execution_count": 47,
      "outputs": []
    },
    {
      "cell_type": "code",
      "source": [
        "# 훈련 데이터의 준비\n",
        "\n",
        "x_val = x_train[:1000]\n",
        "partial_x_train = x_train[1000:]\n",
        "y_val = one_hot_train_labels[:1000]\n",
        "partial_y_train = one_hot_train_labels[1000:]"
      ],
      "metadata": {
        "id": "nJ3Q2L9joHnI"
      },
      "execution_count": 48,
      "outputs": []
    },
    {
      "cell_type": "code",
      "source": [
        "history = model.fit(partial_x_train, \n",
        "                    partial_y_train,\n",
        "                    epochs=20,\n",
        "                    batch_size=512,\n",
        "                    validation_data=(x_val, y_val))"
      ],
      "metadata": {
        "colab": {
          "base_uri": "https://localhost:8080/"
        },
        "id": "ZyIrFFWWo1tJ",
        "outputId": "3ad69dc4-27c1-4511-944a-75d45fd0b712"
      },
      "execution_count": 49,
      "outputs": [
        {
          "output_type": "stream",
          "name": "stdout",
          "text": [
            "Epoch 1/20\n",
            "16/16 [==============================] - 2s 77ms/step - loss: 2.2247 - accuracy: 0.5271 - val_loss: 1.4693 - val_accuracy: 0.6620\n",
            "Epoch 2/20\n",
            "16/16 [==============================] - 1s 64ms/step - loss: 1.2336 - accuracy: 0.7165 - val_loss: 1.1726 - val_accuracy: 0.7400\n",
            "Epoch 3/20\n",
            "16/16 [==============================] - 1s 65ms/step - loss: 0.9276 - accuracy: 0.7879 - val_loss: 1.0611 - val_accuracy: 0.7700\n",
            "Epoch 4/20\n",
            "16/16 [==============================] - 1s 64ms/step - loss: 0.6888 - accuracy: 0.8358 - val_loss: 0.9902 - val_accuracy: 0.7820\n",
            "Epoch 5/20\n",
            "16/16 [==============================] - 1s 65ms/step - loss: 0.5193 - accuracy: 0.8756 - val_loss: 0.9170 - val_accuracy: 0.7990\n",
            "Epoch 6/20\n",
            "16/16 [==============================] - 1s 63ms/step - loss: 0.3928 - accuracy: 0.9058 - val_loss: 1.0016 - val_accuracy: 0.7870\n",
            "Epoch 7/20\n",
            "16/16 [==============================] - 1s 62ms/step - loss: 0.3081 - accuracy: 0.9247 - val_loss: 0.9257 - val_accuracy: 0.8130\n",
            "Epoch 8/20\n",
            "16/16 [==============================] - 1s 63ms/step - loss: 0.2384 - accuracy: 0.9406 - val_loss: 0.9786 - val_accuracy: 0.8020\n",
            "Epoch 9/20\n",
            "16/16 [==============================] - 1s 63ms/step - loss: 0.1963 - accuracy: 0.9480 - val_loss: 1.0050 - val_accuracy: 0.8040\n",
            "Epoch 10/20\n",
            "16/16 [==============================] - 1s 63ms/step - loss: 0.1824 - accuracy: 0.9530 - val_loss: 1.0262 - val_accuracy: 0.7990\n",
            "Epoch 11/20\n",
            "16/16 [==============================] - 1s 63ms/step - loss: 0.1551 - accuracy: 0.9551 - val_loss: 1.0424 - val_accuracy: 0.8050\n",
            "Epoch 12/20\n",
            "16/16 [==============================] - 1s 63ms/step - loss: 0.1403 - accuracy: 0.9551 - val_loss: 1.0536 - val_accuracy: 0.8090\n",
            "Epoch 13/20\n",
            "16/16 [==============================] - 1s 63ms/step - loss: 0.1364 - accuracy: 0.9575 - val_loss: 1.1525 - val_accuracy: 0.7950\n",
            "Epoch 14/20\n",
            "16/16 [==============================] - 1s 64ms/step - loss: 0.1285 - accuracy: 0.9563 - val_loss: 0.9947 - val_accuracy: 0.8170\n",
            "Epoch 15/20\n",
            "16/16 [==============================] - 1s 64ms/step - loss: 0.1219 - accuracy: 0.9553 - val_loss: 1.0969 - val_accuracy: 0.7970\n",
            "Epoch 16/20\n",
            "16/16 [==============================] - 1s 63ms/step - loss: 0.1166 - accuracy: 0.9549 - val_loss: 1.0519 - val_accuracy: 0.8070\n",
            "Epoch 17/20\n",
            "16/16 [==============================] - 1s 64ms/step - loss: 0.1138 - accuracy: 0.9565 - val_loss: 1.0140 - val_accuracy: 0.8150\n",
            "Epoch 18/20\n",
            "16/16 [==============================] - 1s 64ms/step - loss: 0.1073 - accuracy: 0.9582 - val_loss: 1.1329 - val_accuracy: 0.7930\n",
            "Epoch 19/20\n",
            "16/16 [==============================] - 1s 63ms/step - loss: 0.1041 - accuracy: 0.9572 - val_loss: 1.1336 - val_accuracy: 0.7870\n",
            "Epoch 20/20\n",
            "16/16 [==============================] - 1s 63ms/step - loss: 0.1056 - accuracy: 0.9569 - val_loss: 1.0765 - val_accuracy: 0.8140\n"
          ]
        }
      ]
    },
    {
      "cell_type": "code",
      "source": [
        "# 학습 결과를 가져온다.\n",
        "loss = history.history['loss']\n",
        "val_loss = history.history['val_loss']\n",
        "acc = history.history['accuracy']\n",
        "val_acc = history.history['val_accuracy']\n",
        "\n",
        "epochs = range(1, len(loss) + 1)"
      ],
      "metadata": {
        "id": "G088ollxpdSJ"
      },
      "execution_count": 24,
      "outputs": []
    },
    {
      "cell_type": "code",
      "source": [
        "# 결과를 시각화한다.\n",
        "plt.plot(epochs, loss, 'bo', label='Training Loss')\n",
        "plt.plot(epochs, val_loss, 'b-', label='Validation Loss')\n",
        "plt.title('Training and validation loss')\n",
        "plt.xlabel('Epochs')\n",
        "plt.ylabel('Loss')\n",
        "plt.legend()"
      ],
      "metadata": {
        "colab": {
          "base_uri": "https://localhost:8080/",
          "height": 312
        },
        "id": "K4m94bCNrLSZ",
        "outputId": "189c2a70-6b56-4c5d-c5f6-bd72a42c70cd"
      },
      "execution_count": 26,
      "outputs": [
        {
          "output_type": "execute_result",
          "data": {
            "text/plain": [
              "<matplotlib.legend.Legend at 0x7efe2a215590>"
            ]
          },
          "metadata": {},
          "execution_count": 26
        },
        {
          "output_type": "display_data",
          "data": {
            "text/plain": [
              "<Figure size 432x288 with 1 Axes>"
            ],
            "image/png": "[encoded data removed]"
          },
          "metadata": {
            "needs_background": "light"
          }
        }
      ]
    },
    {
      "cell_type": "code",
      "source": [
        "# 결과를 시각화한다.\n",
        "plt.plot(epochs, acc, 'bo', label='Training Accuracy')\n",
        "plt.plot(epochs, val_acc, 'b-', label='Validation Accuracy')\n",
        "plt.title('Training and validation Accuracy')\n",
        "plt.xlabel('Epochs')\n",
        "plt.ylabel('Accuracy')\n",
        "plt.legend()"
      ],
      "metadata": {
        "colab": {
          "base_uri": "https://localhost:8080/",
          "height": 312
        },
        "id": "uIoetTmvriZu",
        "outputId": "431d2540-a299-4b7e-a2e3-4561cfa46d3d"
      },
      "execution_count": 27,
      "outputs": [
        {
          "output_type": "execute_result",
          "data": {
            "text/plain": [
              "<matplotlib.legend.Legend at 0x7efe29c8df90>"
            ]
          },
          "metadata": {},
          "execution_count": 27
        },
        {
          "output_type": "display_data",
          "data": {
            "text/plain": [
              "<Figure size 432x288 with 1 Axes>"
            ],
            "image/png": "[encoded data removed]"
          },
          "metadata": {
            "needs_background": "light"
          }
        }
      ]
    },
    {
      "cell_type": "code",
      "source": [],
      "metadata": {
        "id": "O-ySj5_TsipM"
      },
      "execution_count": null,
      "outputs": []
    }
  ]
}