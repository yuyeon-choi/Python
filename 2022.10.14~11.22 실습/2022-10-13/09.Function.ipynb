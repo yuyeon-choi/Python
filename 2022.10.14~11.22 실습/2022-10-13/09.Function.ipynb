{
 "cells": [
  {
   "cell_type": "code",
   "execution_count": 1,
   "id": "a66449c9",
   "metadata": {},
   "outputs": [
    {
     "ename": "NameError",
     "evalue": "name 'ReturnName' is not defined",
     "output_type": "error",
     "traceback": [
      "\u001b[1;31m---------------------------------------------------------------------------\u001b[0m",
      "\u001b[1;31mNameError\u001b[0m                                 Traceback (most recent call last)",
      "Input \u001b[1;32mIn [1]\u001b[0m, in \u001b[0;36m<cell line: 1>\u001b[1;34m()\u001b[0m\n\u001b[1;32m----> 1\u001b[0m \u001b[43mReturnName\u001b[49m()\n",
      "\u001b[1;31mNameError\u001b[0m: name 'ReturnName' is not defined"
     ]
    }
   ],
   "source": [
    "ReturnName()"
   ]
  },
  {
   "cell_type": "code",
   "execution_count": 9,
   "id": "5d507af5",
   "metadata": {},
   "outputs": [],
   "source": [
    "def ReturnName2(name):\n",
    "    print('My name is {}', format(name))"
   ]
  },
  {
   "cell_type": "code",
   "execution_count": 10,
   "id": "e5b31e7d",
   "metadata": {},
   "outputs": [
    {
     "name": "stdout",
     "output_type": "stream",
     "text": [
      "My name is {} 레드벨벳\n"
     ]
    }
   ],
   "source": [
    "ReturnName2('레드벨벳')"
   ]
  },
  {
   "cell_type": "code",
   "execution_count": 6,
   "id": "cac8af10",
   "metadata": {},
   "outputs": [],
   "source": [
    "def calc(a,b):\n",
    "    c = a * b\n",
    "    \n",
    "    return c"
   ]
  },
  {
   "cell_type": "code",
   "execution_count": 11,
   "id": "4ec92498",
   "metadata": {},
   "outputs": [
    {
     "data": {
      "text/plain": [
       "20000"
      ]
     },
     "execution_count": 11,
     "metadata": {},
     "output_type": "execute_result"
    }
   ],
   "source": [
    "calc(10, 20) * 100"
   ]
  },
  {
   "cell_type": "code",
   "execution_count": 12,
   "id": "c084a971",
   "metadata": {},
   "outputs": [
    {
     "data": {
      "text/plain": [
       "<function __main__.calc(a, b)>"
      ]
     },
     "execution_count": 12,
     "metadata": {},
     "output_type": "execute_result"
    }
   ],
   "source": [
    "calc"
   ]
  },
  {
   "cell_type": "code",
   "execution_count": 13,
   "id": "cea14e62",
   "metadata": {},
   "outputs": [
    {
     "data": {
      "text/plain": [
       "3113784776880"
      ]
     },
     "execution_count": 13,
     "metadata": {},
     "output_type": "execute_result"
    }
   ],
   "source": [
    "id(calc)"
   ]
  },
  {
   "cell_type": "code",
   "execution_count": null,
   "id": "b448b3aa",
   "metadata": {},
   "outputs": [],
   "source": []
  }
 ],
 "metadata": {
  "kernelspec": {
   "display_name": "Python 3 (ipykernel)",
   "language": "python",
   "name": "python3"
  },
  "language_info": {
   "codemirror_mode": {
    "name": "ipython",
    "version": 3
   },
   "file_extension": ".py",
   "mimetype": "text/x-python",
   "name": "python",
   "nbconvert_exporter": "python",
   "pygments_lexer": "ipython3",
   "version": "3.9.12"
  }
 },
 "nbformat": 4,
 "nbformat_minor": 5
}
