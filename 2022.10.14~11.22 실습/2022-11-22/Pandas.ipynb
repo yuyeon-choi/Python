{
 "cells": [
  {
   "cell_type": "code",
   "execution_count": 1,
   "id": "b4d25085",
   "metadata": {},
   "outputs": [],
   "source": [
    "import pandas as pd"
   ]
  },
  {
   "cell_type": "code",
   "execution_count": null,
   "id": "50137afc",
   "metadata": {},
   "outputs": [],
   "source": [
    "# !pip install pandas"
   ]
  },
  {
   "cell_type": "code",
   "execution_count": 8,
   "id": "ceedcacd",
   "metadata": {},
   "outputs": [
    {
     "data": {
      "text/plain": [
       "서울     1116\n",
       "부산    12259\n",
       "인천    65119\n",
       "대구    16699\n",
       "dtype: int64"
      ]
     },
     "execution_count": 8,
     "metadata": {},
     "output_type": "execute_result"
    }
   ],
   "source": [
    "s = pd.Series([1116, 12259, 65119, 16699], index=['서울','부산','인천','대구'])\n",
    "s"
   ]
  },
  {
   "cell_type": "code",
   "execution_count": 9,
   "id": "794031f8",
   "metadata": {},
   "outputs": [
    {
     "data": {
      "text/plain": [
       "Index(['서울', '부산', '인천', '대구'], dtype='object')"
      ]
     },
     "execution_count": 9,
     "metadata": {},
     "output_type": "execute_result"
    }
   ],
   "source": [
    "s.index"
   ]
  },
  {
   "cell_type": "code",
   "execution_count": 11,
   "id": "80057abd",
   "metadata": {},
   "outputs": [
    {
     "data": {
      "text/plain": [
       "array([ 1116, 12259, 65119, 16699], dtype=int64)"
      ]
     },
     "execution_count": 11,
     "metadata": {},
     "output_type": "execute_result"
    }
   ],
   "source": [
    "s.values"
   ]
  },
  {
   "cell_type": "code",
   "execution_count": 14,
   "id": "3854cfc0",
   "metadata": {},
   "outputs": [],
   "source": [
    "s.name = '농작물 생산량(톤)'"
   ]
  },
  {
   "cell_type": "code",
   "execution_count": 16,
   "id": "b5a7f038",
   "metadata": {},
   "outputs": [],
   "source": [
    "s.index.name = '지역구'"
   ]
  },
  {
   "cell_type": "code",
   "execution_count": 17,
   "id": "8367e065",
   "metadata": {},
   "outputs": [
    {
     "data": {
      "text/plain": [
       "지역구\n",
       "서울     1116\n",
       "부산    12259\n",
       "인천    65119\n",
       "대구    16699\n",
       "Name: 농작물 생산량(톤), dtype: int64"
      ]
     },
     "execution_count": 17,
     "metadata": {},
     "output_type": "execute_result"
    }
   ],
   "source": [
    "s"
   ]
  },
  {
   "cell_type": "code",
   "execution_count": 19,
   "id": "1995d3a5",
   "metadata": {},
   "outputs": [],
   "source": [
    "s1 = s/1000"
   ]
  },
  {
   "cell_type": "code",
   "execution_count": 20,
   "id": "d7dd5814",
   "metadata": {},
   "outputs": [],
   "source": [
    "s1.name = '농작물 생산량(k톤)'"
   ]
  },
  {
   "cell_type": "code",
   "execution_count": 21,
   "id": "8fb87ffc",
   "metadata": {},
   "outputs": [
    {
     "data": {
      "text/plain": [
       "지역구\n",
       "서울     1.116\n",
       "부산    12.259\n",
       "인천    65.119\n",
       "대구    16.699\n",
       "Name: 농작물 생산량(k톤), dtype: float64"
      ]
     },
     "execution_count": 21,
     "metadata": {},
     "output_type": "execute_result"
    }
   ],
   "source": [
    "s1"
   ]
  },
  {
   "cell_type": "code",
   "execution_count": 24,
   "id": "edc762ce",
   "metadata": {},
   "outputs": [
    {
     "data": {
      "text/plain": [
       "지역구\n",
       "서울    0.03\n",
       "부산    0.28\n",
       "인천    1.46\n",
       "대구    0.37\n",
       "Name: 농작물 생산량(톤), dtype: float64"
      ]
     },
     "execution_count": 24,
     "metadata": {},
     "output_type": "execute_result"
    }
   ],
   "source": [
    "(s/4456952*100).round(2)"
   ]
  },
  {
   "cell_type": "code",
   "execution_count": 25,
   "id": "b06894fa",
   "metadata": {},
   "outputs": [
    {
     "data": {
      "text/plain": [
       "지역구\n",
       "서울     1116\n",
       "부산    12259\n",
       "인천    65119\n",
       "대구    16699\n",
       "Name: 농작물 생산량(톤), dtype: int64"
      ]
     },
     "execution_count": 25,
     "metadata": {},
     "output_type": "execute_result"
    }
   ],
   "source": [
    "s"
   ]
  },
  {
   "cell_type": "code",
   "execution_count": 27,
   "id": "2cccee23",
   "metadata": {
    "collapsed": true
   },
   "outputs": [
    {
     "data": {
      "text/plain": [
       "(1116, 1116)"
      ]
     },
     "execution_count": 27,
     "metadata": {},
     "output_type": "execute_result"
    }
   ],
   "source": [
    "s[0], s['서울']"
   ]
  },
  {
   "cell_type": "code",
   "execution_count": 28,
   "id": "57a87f72",
   "metadata": {
    "collapsed": true
   },
   "outputs": [
    {
     "data": {
      "text/plain": [
       "지역구\n",
       "서울     1116\n",
       "부산    12259\n",
       "Name: 농작물 생산량(톤), dtype: int64"
      ]
     },
     "execution_count": 28,
     "metadata": {},
     "output_type": "execute_result"
    }
   ],
   "source": [
    "s[[0,1]]"
   ]
  },
  {
   "cell_type": "code",
   "execution_count": 29,
   "id": "103c66e1",
   "metadata": {
    "collapsed": true
   },
   "outputs": [
    {
     "data": {
      "text/plain": [
       "지역구\n",
       "부산    12259\n",
       "서울     1116\n",
       "Name: 농작물 생산량(톤), dtype: int64"
      ]
     },
     "execution_count": 29,
     "metadata": {},
     "output_type": "execute_result"
    }
   ],
   "source": [
    "s[[1,0]]"
   ]
  },
  {
   "cell_type": "code",
   "execution_count": 30,
   "id": "91937f77",
   "metadata": {
    "collapsed": true
   },
   "outputs": [
    {
     "data": {
      "text/plain": [
       "지역구\n",
       "부산    12259\n",
       "서울     1116\n",
       "Name: 농작물 생산량(톤), dtype: int64"
      ]
     },
     "execution_count": 30,
     "metadata": {},
     "output_type": "execute_result"
    }
   ],
   "source": [
    "s[['부산','서울']]"
   ]
  },
  {
   "cell_type": "code",
   "execution_count": 37,
   "id": "869d217c",
   "metadata": {},
   "outputs": [
    {
     "data": {
      "text/plain": [
       "지역구\n",
       "부산    12259\n",
       "대구    16699\n",
       "Name: 농작물 생산량(톤), dtype: int64"
      ]
     },
     "execution_count": 37,
     "metadata": {},
     "output_type": "execute_result"
    }
   ],
   "source": [
    "s[(s>10000) & (s<20000)] "
   ]
  },
  {
   "cell_type": "code",
   "execution_count": 38,
   "id": "d040ba36",
   "metadata": {
    "scrolled": true
   },
   "outputs": [
    {
     "data": {
      "text/plain": [
       "지역구\n",
       "인천    65119\n",
       "Name: 농작물 생산량(톤), dtype: int64"
      ]
     },
     "execution_count": 38,
     "metadata": {},
     "output_type": "execute_result"
    }
   ],
   "source": [
    "s[(s/4456952*100) > 0.5]"
   ]
  },
  {
   "cell_type": "code",
   "execution_count": 40,
   "id": "59edd3dd",
   "metadata": {},
   "outputs": [
    {
     "data": {
      "text/plain": [
       "지역구\n",
       "부산    12259\n",
       "인천    65119\n",
       "Name: 농작물 생산량(톤), dtype: int64"
      ]
     },
     "execution_count": 40,
     "metadata": {},
     "output_type": "execute_result"
    }
   ],
   "source": [
    "s[1:3]"
   ]
  },
  {
   "cell_type": "code",
   "execution_count": 41,
   "id": "4144cba8",
   "metadata": {},
   "outputs": [
    {
     "data": {
      "text/plain": [
       "지역구\n",
       "서울     1116\n",
       "부산    12259\n",
       "인천    65119\n",
       "대구    16699\n",
       "Name: 농작물 생산량(톤), dtype: int64"
      ]
     },
     "execution_count": 41,
     "metadata": {},
     "output_type": "execute_result"
    }
   ],
   "source": [
    "s['서울':'대구']"
   ]
  },
  {
   "cell_type": "code",
   "execution_count": 54,
   "id": "bcfdb508",
   "metadata": {},
   "outputs": [
    {
     "data": {
      "text/plain": [
       "지역구\n",
       "서울     1116\n",
       "부산    12259\n",
       "인천    65119\n",
       "대구    16699\n",
       "Name: 농작물 생산량(톤), dtype: int64"
      ]
     },
     "execution_count": 54,
     "metadata": {},
     "output_type": "execute_result"
    }
   ],
   "source": [
    "s"
   ]
  },
  {
   "cell_type": "code",
   "execution_count": 55,
   "id": "b03df542",
   "metadata": {},
   "outputs": [
    {
     "data": {
      "text/plain": [
       "1116"
      ]
     },
     "execution_count": 55,
     "metadata": {},
     "output_type": "execute_result"
    }
   ],
   "source": [
    "s.서울"
   ]
  },
  {
   "cell_type": "code",
   "execution_count": 65,
   "id": "d8bb68b6",
   "metadata": {},
   "outputs": [
    {
     "data": {
      "text/plain": [
       "서울    1\n",
       "부산    2\n",
       "dtype: int64"
      ]
     },
     "execution_count": 65,
     "metadata": {},
     "output_type": "execute_result"
    }
   ],
   "source": [
    "d1 = {'서울':1, '부산':2}\n",
    "pd.Series(d1)"
   ]
  },
  {
   "cell_type": "code",
   "execution_count": 58,
   "id": "e7b4378a",
   "metadata": {},
   "outputs": [
    {
     "name": "stdout",
     "output_type": "stream",
     "text": [
      "서울 1116\n",
      "부산 12259\n",
      "인천 65119\n",
      "대구 16699\n"
     ]
    }
   ],
   "source": [
    "for k,v in s.items():\n",
    "    print(k,v)"
   ]
  },
  {
   "cell_type": "code",
   "execution_count": 64,
   "id": "009353f2",
   "metadata": {},
   "outputs": [
    {
     "name": "stdout",
     "output_type": "stream",
     "text": [
      "False\n"
     ]
    },
    {
     "data": {
      "text/plain": [
       "True"
      ]
     },
     "execution_count": 64,
     "metadata": {},
     "output_type": "execute_result"
    }
   ],
   "source": [
    "print('제주도' in s)\n",
    "'서울' in s.keys()"
   ]
  },
  {
   "cell_type": "code",
   "execution_count": 66,
   "id": "24a34311",
   "metadata": {},
   "outputs": [
    {
     "data": {
      "text/plain": [
       "서울     1116\n",
       "부산    12259\n",
       "인천    65119\n",
       "대구    16699\n",
       "dtype: int64"
      ]
     },
     "execution_count": 66,
     "metadata": {},
     "output_type": "execute_result"
    }
   ],
   "source": [
    "s21 = pd.Series([1116, 12259, 65119, 16699], index=['서울','부산','인천','대구'])\n",
    "s21"
   ]
  },
  {
   "cell_type": "code",
   "execution_count": 90,
   "id": "22ff8a4b",
   "metadata": {},
   "outputs": [],
   "source": [
    "s20 = pd.Series([628,11075,56013,15695], index=['서울','부산','인천','대구'])"
   ]
  },
  {
   "cell_type": "code",
   "execution_count": 74,
   "id": "fee19b74",
   "metadata": {},
   "outputs": [],
   "source": [
    "s_sub = s21 - s20"
   ]
  },
  {
   "cell_type": "code",
   "execution_count": 72,
   "id": "d71877d1",
   "metadata": {},
   "outputs": [
    {
     "data": {
      "text/plain": [
       "float"
      ]
     },
     "execution_count": 72,
     "metadata": {},
     "output_type": "execute_result"
    }
   ],
   "source": [
    "import numpy as np\n",
    "type(np.nan)"
   ]
  },
  {
   "cell_type": "code",
   "execution_count": 76,
   "id": "4e4df5ac",
   "metadata": {
    "collapsed": true
   },
   "outputs": [
    {
     "ename": "IntCastingNaNError",
     "evalue": "Cannot convert non-finite values (NA or inf) to integer",
     "output_type": "error",
     "traceback": [
      "\u001b[1;31m---------------------------------------------------------------------------\u001b[0m",
      "\u001b[1;31mIntCastingNaNError\u001b[0m                        Traceback (most recent call last)",
      "\u001b[1;32m~\\AppData\\Local\\Temp\\ipykernel_30528\\2656054813.py\u001b[0m in \u001b[0;36m<module>\u001b[1;34m\u001b[0m\n\u001b[1;32m----> 1\u001b[1;33m \u001b[0ms_sub\u001b[0m\u001b[1;33m.\u001b[0m\u001b[0mastype\u001b[0m\u001b[1;33m(\u001b[0m\u001b[0mint\u001b[0m\u001b[1;33m)\u001b[0m\u001b[1;33m\u001b[0m\u001b[1;33m\u001b[0m\u001b[0m\n\u001b[0m",
      "\u001b[1;32m~\\anaconda3\\lib\\site-packages\\pandas\\core\\generic.py\u001b[0m in \u001b[0;36mastype\u001b[1;34m(self, dtype, copy, errors)\u001b[0m\n\u001b[0;32m   5910\u001b[0m         \u001b[1;32melse\u001b[0m\u001b[1;33m:\u001b[0m\u001b[1;33m\u001b[0m\u001b[1;33m\u001b[0m\u001b[0m\n\u001b[0;32m   5911\u001b[0m             \u001b[1;31m# else, only a single dtype is given\u001b[0m\u001b[1;33m\u001b[0m\u001b[1;33m\u001b[0m\u001b[0m\n\u001b[1;32m-> 5912\u001b[1;33m             \u001b[0mnew_data\u001b[0m \u001b[1;33m=\u001b[0m \u001b[0mself\u001b[0m\u001b[1;33m.\u001b[0m\u001b[0m_mgr\u001b[0m\u001b[1;33m.\u001b[0m\u001b[0mastype\u001b[0m\u001b[1;33m(\u001b[0m\u001b[0mdtype\u001b[0m\u001b[1;33m=\u001b[0m\u001b[0mdtype\u001b[0m\u001b[1;33m,\u001b[0m \u001b[0mcopy\u001b[0m\u001b[1;33m=\u001b[0m\u001b[0mcopy\u001b[0m\u001b[1;33m,\u001b[0m \u001b[0merrors\u001b[0m\u001b[1;33m=\u001b[0m\u001b[0merrors\u001b[0m\u001b[1;33m)\u001b[0m\u001b[1;33m\u001b[0m\u001b[1;33m\u001b[0m\u001b[0m\n\u001b[0m\u001b[0;32m   5913\u001b[0m             \u001b[1;32mreturn\u001b[0m \u001b[0mself\u001b[0m\u001b[1;33m.\u001b[0m\u001b[0m_constructor\u001b[0m\u001b[1;33m(\u001b[0m\u001b[0mnew_data\u001b[0m\u001b[1;33m)\u001b[0m\u001b[1;33m.\u001b[0m\u001b[0m__finalize__\u001b[0m\u001b[1;33m(\u001b[0m\u001b[0mself\u001b[0m\u001b[1;33m,\u001b[0m \u001b[0mmethod\u001b[0m\u001b[1;33m=\u001b[0m\u001b[1;34m\"astype\"\u001b[0m\u001b[1;33m)\u001b[0m\u001b[1;33m\u001b[0m\u001b[1;33m\u001b[0m\u001b[0m\n\u001b[0;32m   5914\u001b[0m \u001b[1;33m\u001b[0m\u001b[0m\n",
      "\u001b[1;32m~\\anaconda3\\lib\\site-packages\\pandas\\core\\internals\\managers.py\u001b[0m in \u001b[0;36mastype\u001b[1;34m(self, dtype, copy, errors)\u001b[0m\n\u001b[0;32m    417\u001b[0m \u001b[1;33m\u001b[0m\u001b[0m\n\u001b[0;32m    418\u001b[0m     \u001b[1;32mdef\u001b[0m \u001b[0mastype\u001b[0m\u001b[1;33m(\u001b[0m\u001b[0mself\u001b[0m\u001b[1;33m:\u001b[0m \u001b[0mT\u001b[0m\u001b[1;33m,\u001b[0m \u001b[0mdtype\u001b[0m\u001b[1;33m,\u001b[0m \u001b[0mcopy\u001b[0m\u001b[1;33m:\u001b[0m \u001b[0mbool\u001b[0m \u001b[1;33m=\u001b[0m \u001b[1;32mFalse\u001b[0m\u001b[1;33m,\u001b[0m \u001b[0merrors\u001b[0m\u001b[1;33m:\u001b[0m \u001b[0mstr\u001b[0m \u001b[1;33m=\u001b[0m \u001b[1;34m\"raise\"\u001b[0m\u001b[1;33m)\u001b[0m \u001b[1;33m->\u001b[0m \u001b[0mT\u001b[0m\u001b[1;33m:\u001b[0m\u001b[1;33m\u001b[0m\u001b[1;33m\u001b[0m\u001b[0m\n\u001b[1;32m--> 419\u001b[1;33m         \u001b[1;32mreturn\u001b[0m \u001b[0mself\u001b[0m\u001b[1;33m.\u001b[0m\u001b[0mapply\u001b[0m\u001b[1;33m(\u001b[0m\u001b[1;34m\"astype\"\u001b[0m\u001b[1;33m,\u001b[0m \u001b[0mdtype\u001b[0m\u001b[1;33m=\u001b[0m\u001b[0mdtype\u001b[0m\u001b[1;33m,\u001b[0m \u001b[0mcopy\u001b[0m\u001b[1;33m=\u001b[0m\u001b[0mcopy\u001b[0m\u001b[1;33m,\u001b[0m \u001b[0merrors\u001b[0m\u001b[1;33m=\u001b[0m\u001b[0merrors\u001b[0m\u001b[1;33m)\u001b[0m\u001b[1;33m\u001b[0m\u001b[1;33m\u001b[0m\u001b[0m\n\u001b[0m\u001b[0;32m    420\u001b[0m \u001b[1;33m\u001b[0m\u001b[0m\n\u001b[0;32m    421\u001b[0m     def convert(\n",
      "\u001b[1;32m~\\anaconda3\\lib\\site-packages\\pandas\\core\\internals\\managers.py\u001b[0m in \u001b[0;36mapply\u001b[1;34m(self, f, align_keys, ignore_failures, **kwargs)\u001b[0m\n\u001b[0;32m    302\u001b[0m                     \u001b[0mapplied\u001b[0m \u001b[1;33m=\u001b[0m \u001b[0mb\u001b[0m\u001b[1;33m.\u001b[0m\u001b[0mapply\u001b[0m\u001b[1;33m(\u001b[0m\u001b[0mf\u001b[0m\u001b[1;33m,\u001b[0m \u001b[1;33m**\u001b[0m\u001b[0mkwargs\u001b[0m\u001b[1;33m)\u001b[0m\u001b[1;33m\u001b[0m\u001b[1;33m\u001b[0m\u001b[0m\n\u001b[0;32m    303\u001b[0m                 \u001b[1;32melse\u001b[0m\u001b[1;33m:\u001b[0m\u001b[1;33m\u001b[0m\u001b[1;33m\u001b[0m\u001b[0m\n\u001b[1;32m--> 304\u001b[1;33m                     \u001b[0mapplied\u001b[0m \u001b[1;33m=\u001b[0m \u001b[0mgetattr\u001b[0m\u001b[1;33m(\u001b[0m\u001b[0mb\u001b[0m\u001b[1;33m,\u001b[0m \u001b[0mf\u001b[0m\u001b[1;33m)\u001b[0m\u001b[1;33m(\u001b[0m\u001b[1;33m**\u001b[0m\u001b[0mkwargs\u001b[0m\u001b[1;33m)\u001b[0m\u001b[1;33m\u001b[0m\u001b[1;33m\u001b[0m\u001b[0m\n\u001b[0m\u001b[0;32m    305\u001b[0m             \u001b[1;32mexcept\u001b[0m \u001b[1;33m(\u001b[0m\u001b[0mTypeError\u001b[0m\u001b[1;33m,\u001b[0m \u001b[0mNotImplementedError\u001b[0m\u001b[1;33m)\u001b[0m\u001b[1;33m:\u001b[0m\u001b[1;33m\u001b[0m\u001b[1;33m\u001b[0m\u001b[0m\n\u001b[0;32m    306\u001b[0m                 \u001b[1;32mif\u001b[0m \u001b[1;32mnot\u001b[0m \u001b[0mignore_failures\u001b[0m\u001b[1;33m:\u001b[0m\u001b[1;33m\u001b[0m\u001b[1;33m\u001b[0m\u001b[0m\n",
      "\u001b[1;32m~\\anaconda3\\lib\\site-packages\\pandas\\core\\internals\\blocks.py\u001b[0m in \u001b[0;36mastype\u001b[1;34m(self, dtype, copy, errors)\u001b[0m\n\u001b[0;32m    578\u001b[0m         \u001b[0mvalues\u001b[0m \u001b[1;33m=\u001b[0m \u001b[0mself\u001b[0m\u001b[1;33m.\u001b[0m\u001b[0mvalues\u001b[0m\u001b[1;33m\u001b[0m\u001b[1;33m\u001b[0m\u001b[0m\n\u001b[0;32m    579\u001b[0m \u001b[1;33m\u001b[0m\u001b[0m\n\u001b[1;32m--> 580\u001b[1;33m         \u001b[0mnew_values\u001b[0m \u001b[1;33m=\u001b[0m \u001b[0mastype_array_safe\u001b[0m\u001b[1;33m(\u001b[0m\u001b[0mvalues\u001b[0m\u001b[1;33m,\u001b[0m \u001b[0mdtype\u001b[0m\u001b[1;33m,\u001b[0m \u001b[0mcopy\u001b[0m\u001b[1;33m=\u001b[0m\u001b[0mcopy\u001b[0m\u001b[1;33m,\u001b[0m \u001b[0merrors\u001b[0m\u001b[1;33m=\u001b[0m\u001b[0merrors\u001b[0m\u001b[1;33m)\u001b[0m\u001b[1;33m\u001b[0m\u001b[1;33m\u001b[0m\u001b[0m\n\u001b[0m\u001b[0;32m    581\u001b[0m \u001b[1;33m\u001b[0m\u001b[0m\n\u001b[0;32m    582\u001b[0m         \u001b[0mnew_values\u001b[0m \u001b[1;33m=\u001b[0m \u001b[0mmaybe_coerce_values\u001b[0m\u001b[1;33m(\u001b[0m\u001b[0mnew_values\u001b[0m\u001b[1;33m)\u001b[0m\u001b[1;33m\u001b[0m\u001b[1;33m\u001b[0m\u001b[0m\n",
      "\u001b[1;32m~\\anaconda3\\lib\\site-packages\\pandas\\core\\dtypes\\cast.py\u001b[0m in \u001b[0;36mastype_array_safe\u001b[1;34m(values, dtype, copy, errors)\u001b[0m\n\u001b[0;32m   1290\u001b[0m \u001b[1;33m\u001b[0m\u001b[0m\n\u001b[0;32m   1291\u001b[0m     \u001b[1;32mtry\u001b[0m\u001b[1;33m:\u001b[0m\u001b[1;33m\u001b[0m\u001b[1;33m\u001b[0m\u001b[0m\n\u001b[1;32m-> 1292\u001b[1;33m         \u001b[0mnew_values\u001b[0m \u001b[1;33m=\u001b[0m \u001b[0mastype_array\u001b[0m\u001b[1;33m(\u001b[0m\u001b[0mvalues\u001b[0m\u001b[1;33m,\u001b[0m \u001b[0mdtype\u001b[0m\u001b[1;33m,\u001b[0m \u001b[0mcopy\u001b[0m\u001b[1;33m=\u001b[0m\u001b[0mcopy\u001b[0m\u001b[1;33m)\u001b[0m\u001b[1;33m\u001b[0m\u001b[1;33m\u001b[0m\u001b[0m\n\u001b[0m\u001b[0;32m   1293\u001b[0m     \u001b[1;32mexcept\u001b[0m \u001b[1;33m(\u001b[0m\u001b[0mValueError\u001b[0m\u001b[1;33m,\u001b[0m \u001b[0mTypeError\u001b[0m\u001b[1;33m)\u001b[0m\u001b[1;33m:\u001b[0m\u001b[1;33m\u001b[0m\u001b[1;33m\u001b[0m\u001b[0m\n\u001b[0;32m   1294\u001b[0m         \u001b[1;31m# e.g. astype_nansafe can fail on object-dtype of strings\u001b[0m\u001b[1;33m\u001b[0m\u001b[1;33m\u001b[0m\u001b[0m\n",
      "\u001b[1;32m~\\anaconda3\\lib\\site-packages\\pandas\\core\\dtypes\\cast.py\u001b[0m in \u001b[0;36mastype_array\u001b[1;34m(values, dtype, copy)\u001b[0m\n\u001b[0;32m   1235\u001b[0m \u001b[1;33m\u001b[0m\u001b[0m\n\u001b[0;32m   1236\u001b[0m     \u001b[1;32melse\u001b[0m\u001b[1;33m:\u001b[0m\u001b[1;33m\u001b[0m\u001b[1;33m\u001b[0m\u001b[0m\n\u001b[1;32m-> 1237\u001b[1;33m         \u001b[0mvalues\u001b[0m \u001b[1;33m=\u001b[0m \u001b[0mastype_nansafe\u001b[0m\u001b[1;33m(\u001b[0m\u001b[0mvalues\u001b[0m\u001b[1;33m,\u001b[0m \u001b[0mdtype\u001b[0m\u001b[1;33m,\u001b[0m \u001b[0mcopy\u001b[0m\u001b[1;33m=\u001b[0m\u001b[0mcopy\u001b[0m\u001b[1;33m)\u001b[0m\u001b[1;33m\u001b[0m\u001b[1;33m\u001b[0m\u001b[0m\n\u001b[0m\u001b[0;32m   1238\u001b[0m \u001b[1;33m\u001b[0m\u001b[0m\n\u001b[0;32m   1239\u001b[0m     \u001b[1;31m# in pandas we don't store numpy str dtypes, so convert to object\u001b[0m\u001b[1;33m\u001b[0m\u001b[1;33m\u001b[0m\u001b[0m\n",
      "\u001b[1;32m~\\anaconda3\\lib\\site-packages\\pandas\\core\\dtypes\\cast.py\u001b[0m in \u001b[0;36mastype_nansafe\u001b[1;34m(arr, dtype, copy, skipna)\u001b[0m\n\u001b[0;32m   1146\u001b[0m \u001b[1;33m\u001b[0m\u001b[0m\n\u001b[0;32m   1147\u001b[0m     \u001b[1;32melif\u001b[0m \u001b[0mnp\u001b[0m\u001b[1;33m.\u001b[0m\u001b[0missubdtype\u001b[0m\u001b[1;33m(\u001b[0m\u001b[0marr\u001b[0m\u001b[1;33m.\u001b[0m\u001b[0mdtype\u001b[0m\u001b[1;33m,\u001b[0m \u001b[0mnp\u001b[0m\u001b[1;33m.\u001b[0m\u001b[0mfloating\u001b[0m\u001b[1;33m)\u001b[0m \u001b[1;32mand\u001b[0m \u001b[0mnp\u001b[0m\u001b[1;33m.\u001b[0m\u001b[0missubdtype\u001b[0m\u001b[1;33m(\u001b[0m\u001b[0mdtype\u001b[0m\u001b[1;33m,\u001b[0m \u001b[0mnp\u001b[0m\u001b[1;33m.\u001b[0m\u001b[0minteger\u001b[0m\u001b[1;33m)\u001b[0m\u001b[1;33m:\u001b[0m\u001b[1;33m\u001b[0m\u001b[1;33m\u001b[0m\u001b[0m\n\u001b[1;32m-> 1148\u001b[1;33m         \u001b[1;32mreturn\u001b[0m \u001b[0mastype_float_to_int_nansafe\u001b[0m\u001b[1;33m(\u001b[0m\u001b[0marr\u001b[0m\u001b[1;33m,\u001b[0m \u001b[0mdtype\u001b[0m\u001b[1;33m,\u001b[0m \u001b[0mcopy\u001b[0m\u001b[1;33m)\u001b[0m\u001b[1;33m\u001b[0m\u001b[1;33m\u001b[0m\u001b[0m\n\u001b[0m\u001b[0;32m   1149\u001b[0m \u001b[1;33m\u001b[0m\u001b[0m\n\u001b[0;32m   1150\u001b[0m     \u001b[1;32melif\u001b[0m \u001b[0mis_object_dtype\u001b[0m\u001b[1;33m(\u001b[0m\u001b[0marr\u001b[0m\u001b[1;33m.\u001b[0m\u001b[0mdtype\u001b[0m\u001b[1;33m)\u001b[0m\u001b[1;33m:\u001b[0m\u001b[1;33m\u001b[0m\u001b[1;33m\u001b[0m\u001b[0m\n",
      "\u001b[1;32m~\\anaconda3\\lib\\site-packages\\pandas\\core\\dtypes\\cast.py\u001b[0m in \u001b[0;36mastype_float_to_int_nansafe\u001b[1;34m(values, dtype, copy)\u001b[0m\n\u001b[0;32m   1191\u001b[0m     \"\"\"\n\u001b[0;32m   1192\u001b[0m     \u001b[1;32mif\u001b[0m \u001b[1;32mnot\u001b[0m \u001b[0mnp\u001b[0m\u001b[1;33m.\u001b[0m\u001b[0misfinite\u001b[0m\u001b[1;33m(\u001b[0m\u001b[0mvalues\u001b[0m\u001b[1;33m)\u001b[0m\u001b[1;33m.\u001b[0m\u001b[0mall\u001b[0m\u001b[1;33m(\u001b[0m\u001b[1;33m)\u001b[0m\u001b[1;33m:\u001b[0m\u001b[1;33m\u001b[0m\u001b[1;33m\u001b[0m\u001b[0m\n\u001b[1;32m-> 1193\u001b[1;33m         raise IntCastingNaNError(\n\u001b[0m\u001b[0;32m   1194\u001b[0m             \u001b[1;34m\"Cannot convert non-finite values (NA or inf) to integer\"\u001b[0m\u001b[1;33m\u001b[0m\u001b[1;33m\u001b[0m\u001b[0m\n\u001b[0;32m   1195\u001b[0m         )\n",
      "\u001b[1;31mIntCastingNaNError\u001b[0m: Cannot convert non-finite values (NA or inf) to integer"
     ]
    }
   ],
   "source": [
    "s_sub.astype(int)"
   ]
  },
  {
   "cell_type": "code",
   "execution_count": 83,
   "id": "9e64b9d3",
   "metadata": {},
   "outputs": [],
   "source": [
    "s_sub = s21.sub(s20, fill_value=0)"
   ]
  },
  {
   "cell_type": "code",
   "execution_count": 85,
   "id": "cca6a043",
   "metadata": {
    "scrolled": true
   },
   "outputs": [],
   "source": [
    "s_sub2 = s21.sub(s20)"
   ]
  },
  {
   "cell_type": "code",
   "execution_count": 89,
   "id": "fb583b58",
   "metadata": {},
   "outputs": [
    {
     "data": {
      "text/plain": [
       "대구      True\n",
       "부산      True\n",
       "서울     False\n",
       "인천      True\n",
       "제주도    False\n",
       "dtype: bool"
      ]
     },
     "execution_count": 89,
     "metadata": {},
     "output_type": "execute_result"
    }
   ],
   "source": [
    "s_sub2.notnull()"
   ]
  },
  {
   "cell_type": "code",
   "execution_count": 91,
   "id": "b16bc3c3",
   "metadata": {},
   "outputs": [
    {
     "data": {
      "text/plain": [
       "서울     1116\n",
       "부산    12259\n",
       "인천    65119\n",
       "대구    16699\n",
       "dtype: int64"
      ]
     },
     "execution_count": 91,
     "metadata": {},
     "output_type": "execute_result"
    }
   ],
   "source": [
    "s21"
   ]
  },
  {
   "cell_type": "code",
   "execution_count": 92,
   "id": "fd8af0e4",
   "metadata": {},
   "outputs": [
    {
     "data": {
      "text/plain": [
       "서울      628\n",
       "부산    11075\n",
       "인천    56013\n",
       "대구    15695\n",
       "dtype: int64"
      ]
     },
     "execution_count": 92,
     "metadata": {},
     "output_type": "execute_result"
    }
   ],
   "source": [
    "s20"
   ]
  },
  {
   "cell_type": "code",
   "execution_count": 95,
   "id": "fe35b66b",
   "metadata": {},
   "outputs": [],
   "source": [
    "rs = ((s21 - s20) / s20 * 100).round(2)"
   ]
  },
  {
   "cell_type": "code",
   "execution_count": 97,
   "id": "ed9276aa",
   "metadata": {},
   "outputs": [
    {
     "data": {
      "text/plain": [
       "77.71"
      ]
     },
     "execution_count": 97,
     "metadata": {},
     "output_type": "execute_result"
    }
   ],
   "source": [
    "rs['서울']"
   ]
  },
  {
   "cell_type": "code",
   "execution_count": 98,
   "id": "5f45ef08",
   "metadata": {},
   "outputs": [],
   "source": [
    "rs['서울'] = 0"
   ]
  },
  {
   "cell_type": "code",
   "execution_count": 100,
   "id": "b8616d14",
   "metadata": {},
   "outputs": [],
   "source": [
    "rs[0] = 123"
   ]
  },
  {
   "cell_type": "code",
   "execution_count": 101,
   "id": "c4feb020",
   "metadata": {},
   "outputs": [
    {
     "data": {
      "text/plain": [
       "서울    123.00\n",
       "부산     10.69\n",
       "인천     16.26\n",
       "대구      6.40\n",
       "dtype: float64"
      ]
     },
     "execution_count": 101,
     "metadata": {},
     "output_type": "execute_result"
    }
   ],
   "source": [
    "rs"
   ]
  },
  {
   "cell_type": "code",
   "execution_count": 102,
   "id": "5ecf8db8",
   "metadata": {},
   "outputs": [],
   "source": [
    "del rs['대구']"
   ]
  },
  {
   "cell_type": "code",
   "execution_count": 105,
   "id": "2f601651",
   "metadata": {},
   "outputs": [],
   "source": [
    "del rs['서울']"
   ]
  },
  {
   "cell_type": "code",
   "execution_count": 106,
   "id": "04f7e651",
   "metadata": {},
   "outputs": [
    {
     "data": {
      "text/plain": [
       "부산    10.69\n",
       "인천    16.26\n",
       "dtype: float64"
      ]
     },
     "execution_count": 106,
     "metadata": {},
     "output_type": "execute_result"
    }
   ],
   "source": [
    "rs"
   ]
  },
  {
   "cell_type": "code",
   "execution_count": 107,
   "id": "d404a471",
   "metadata": {},
   "outputs": [],
   "source": [
    "rs['서울'] = 77.71"
   ]
  },
  {
   "cell_type": "code",
   "execution_count": 108,
   "id": "bbc7b1ff",
   "metadata": {},
   "outputs": [
    {
     "data": {
      "text/plain": [
       "부산    10.69\n",
       "인천    16.26\n",
       "서울    77.71\n",
       "dtype: float64"
      ]
     },
     "execution_count": 108,
     "metadata": {},
     "output_type": "execute_result"
    }
   ],
   "source": [
    "rs"
   ]
  },
  {
   "cell_type": "code",
   "execution_count": 109,
   "id": "843096cf",
   "metadata": {},
   "outputs": [],
   "source": [
    "rs['대구'] = 6.40"
   ]
  },
  {
   "cell_type": "code",
   "execution_count": 110,
   "id": "02fda76c",
   "metadata": {},
   "outputs": [
    {
     "data": {
      "text/plain": [
       "부산    10.69\n",
       "인천    16.26\n",
       "서울    77.71\n",
       "대구     6.40\n",
       "dtype: float64"
      ]
     },
     "execution_count": 110,
     "metadata": {},
     "output_type": "execute_result"
    }
   ],
   "source": [
    "rs"
   ]
  },
  {
   "cell_type": "code",
   "execution_count": 111,
   "id": "d173bd67",
   "metadata": {},
   "outputs": [],
   "source": [
    "import random"
   ]
  },
  {
   "cell_type": "code",
   "execution_count": 158,
   "id": "f20733b9",
   "metadata": {},
   "outputs": [],
   "source": [
    "key100 = random.sample(list(range(120)), 100)\n",
    "# pd.Series() # 크기가 100\n",
    "# 키값 100 밸류값 100\n",
    "key80 = random.sample(list(range(120)), 80)\n",
    "value100 = random.sample(list(range(120)), 100)\n",
    "value80 = random.sample(list(range(120)), 80)\n",
    "s100 = pd.Series(value100, index=key100)\n",
    "s80 = pd.Series(value80, index=key80)"
   ]
  },
  {
   "cell_type": "code",
   "execution_count": 153,
   "id": "b7f0c272",
   "metadata": {},
   "outputs": [],
   "source": [
    "s_100_80_mul = s100.sub(s80)"
   ]
  },
  {
   "cell_type": "code",
   "execution_count": 132,
   "id": "c609b7a8",
   "metadata": {},
   "outputs": [
    {
     "data": {
      "text/plain": [
       "234.0"
      ]
     },
     "execution_count": 132,
     "metadata": {},
     "output_type": "execute_result"
    }
   ],
   "source": [
    "s_100_80_sub[122]"
   ]
  },
  {
   "cell_type": "code",
   "execution_count": 133,
   "id": "bfa042f5",
   "metadata": {},
   "outputs": [
    {
     "data": {
      "text/plain": [
       "914"
      ]
     },
     "execution_count": 133,
     "metadata": {},
     "output_type": "execute_result"
    }
   ],
   "source": [
    "s100[122]"
   ]
  },
  {
   "cell_type": "code",
   "execution_count": 134,
   "id": "d4e96fb7",
   "metadata": {},
   "outputs": [
    {
     "data": {
      "text/plain": [
       "680"
      ]
     },
     "execution_count": 134,
     "metadata": {},
     "output_type": "execute_result"
    }
   ],
   "source": [
    "s80[122]"
   ]
  },
  {
   "cell_type": "code",
   "execution_count": 157,
   "id": "e5c9efca",
   "metadata": {},
   "outputs": [
    {
     "data": {
      "text/plain": [
       "range"
      ]
     },
     "execution_count": 157,
     "metadata": {},
     "output_type": "execute_result"
    }
   ],
   "source": [
    "range(120)"
   ]
  },
  {
   "cell_type": "code",
   "execution_count": null,
   "id": "43d46524",
   "metadata": {},
   "outputs": [],
   "source": []
  }
 ],
 "metadata": {
  "kernelspec": {
   "display_name": "Python 3 (ipykernel)",
   "language": "python",
   "name": "python3"
  },
  "language_info": {
   "codemirror_mode": {
    "name": "ipython",
    "version": 3
   },
   "file_extension": ".py",
   "mimetype": "text/x-python",
   "name": "python",
   "nbconvert_exporter": "python",
   "pygments_lexer": "ipython3",
   "version": "3.9.13"
  }
 },
 "nbformat": 4,
 "nbformat_minor": 5
}
