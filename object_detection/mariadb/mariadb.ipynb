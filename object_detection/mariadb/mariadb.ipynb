{
 "cells": [
  {
   "attachments": {},
   "cell_type": "markdown",
   "metadata": {},
   "source": [
    "\n",
    "### [mariasql info]  \n",
    "- host = \"219.251.99.114\"   \n",
    "- user = \"bbongs\"   \n",
    "- pw = \"Qweasd123$\"   \n",
    "- db = \"team\"   \n",
    "- port = 3306   \n"
   ]
  },
  {
   "cell_type": "code",
   "execution_count": 106,
   "metadata": {},
   "outputs": [],
   "source": [
    "import pandas as pd\n",
    "import pymysql\n",
    "import scipy.io\n",
    "import csv\n",
    "from mysql.connector import (connection)"
   ]
  },
  {
   "cell_type": "code",
   "execution_count": 107,
   "metadata": {},
   "outputs": [],
   "source": [
    "# ## sql 모음\n",
    "sql_0 = \"DROP DATABASE drone_project;\"\n",
    "sql_1 = \"CREATE DATABASE drone_project;\"\n",
    "# test파일로 수정함\n",
    "sql_2 ='''\n",
    "    CREATE TABLE `customer` (\n",
    "\t`id` INT(11) NULL DEFAULT NULL,\n",
    "\t`name` VARCHAR(50) NULL DEFAULT NULL COLLATE 'utf8_general_ci',\n",
    "\t`email_address` VARCHAR(50) NULL DEFAULT NULL COLLATE 'utf8_general_ci'\n",
    ")\n",
    "COLLATE='utf8_general_ci'\n",
    "ENGINE=InnoDB\n",
    ";\n",
    "    '''\n",
    "sql_3 ='''\n",
    "CREATE TABLE `webcam` (\n",
    "\t`id` INT(10) UNSIGNED NOT NULL,\n",
    "\t`label` VARCHAR(50) NOT NULL COLLATE 'utf8_general_ci',\n",
    "\t`num` INT(11) UNSIGNED ZEROFILL NOT NULL,\n",
    "\t`time` DATETIME NOT NULL,\n",
    "\t`latitude` VARCHAR(50) NOT NULL COLLATE 'utf8_general_ci',\n",
    "\t`longitude` VARCHAR(50) NOT NULL COLLATE 'utf8_general_ci'\n",
    ")\n",
    "COLLATE='utf8_general_ci'\n",
    "ENGINE=InnoDB\n",
    ";\n",
    "'''\n",
    "\n",
    "sql_4 = '''\n",
    "CREATE TABLE `daily_price` (\n",
    "\t`code` VARCHAR(20) NOT NULL COLLATE 'utf8_general_ci',\n",
    "\t`date` DATE NOT NULL,\n",
    "\t`open` BIGINT(20) NULL DEFAULT NULL,\n",
    "\t`high` BIGINT(20) NULL DEFAULT NULL,\n",
    "\t`low` BIGINT(20) NULL DEFAULT NULL,\n",
    "\t`close` BIGINT(20) NULL DEFAULT NULL,\n",
    "\t`diff` BIGINT(20) NULL DEFAULT NULL,\n",
    "\t`volume` BIGINT(20) NULL DEFAULT NULL,\n",
    "\tPRIMARY KEY (`code`, `date`) USING BTREE\n",
    ")\n",
    "COLLATE='utf8_general_ci'\n",
    "ENGINE=InnoDB\n",
    ";\n",
    "'''"
   ]
  },
  {
   "cell_type": "code",
   "execution_count": 1,
   "metadata": {},
   "outputs": [
    {
     "ename": "NameError",
     "evalue": "name 'pymysql' is not defined",
     "output_type": "error",
     "traceback": [
      "\u001b[1;31m---------------------------------------------------------------------------\u001b[0m",
      "\u001b[1;31mNameError\u001b[0m                                 Traceback (most recent call last)",
      "Cell \u001b[1;32mIn[1], line 2\u001b[0m\n\u001b[0;32m      1\u001b[0m \u001b[39m# 기본 setting\u001b[39;00m\n\u001b[1;32m----> 2\u001b[0m conn \u001b[39m=\u001b[39m pymysql\u001b[39m.\u001b[39mconnect(\n\u001b[0;32m      3\u001b[0m     user\u001b[39m=\u001b[39m\u001b[39m'\u001b[39m\u001b[39mbbongs\u001b[39m\u001b[39m'\u001b[39m,\n\u001b[0;32m      4\u001b[0m     passwd\u001b[39m=\u001b[39m\u001b[39m'\u001b[39m\u001b[39mQweasd123$\u001b[39m\u001b[39m'\u001b[39m,\n\u001b[0;32m      5\u001b[0m     host\u001b[39m=\u001b[39m\u001b[39m'\u001b[39m\u001b[39m219.251.99.114\u001b[39m\u001b[39m'\u001b[39m,\n\u001b[0;32m      6\u001b[0m     db\u001b[39m=\u001b[39m\u001b[39m'\u001b[39m\u001b[39mteam\u001b[39m\u001b[39m'\u001b[39m,\n\u001b[0;32m      7\u001b[0m     charset\u001b[39m=\u001b[39m\u001b[39m'\u001b[39m\u001b[39mutf8\u001b[39m\u001b[39m'\u001b[39m\n\u001b[0;32m      8\u001b[0m )\n\u001b[0;32m     10\u001b[0m cursor \u001b[39m=\u001b[39m conn\u001b[39m.\u001b[39mcursor(pymysql\u001b[39m.\u001b[39mcursors\u001b[39m.\u001b[39mDictCursor)\n",
      "\u001b[1;31mNameError\u001b[0m: name 'pymysql' is not defined"
     ]
    }
   ],
   "source": [
    "# 기본 setting\n",
    "conn = pymysql.connect(\n",
    "    user='bbongs',\n",
    "    passwd='Qweasd123$',\n",
    "    host='219.251.99.114',\n",
    "    db='team',\n",
    "    charset='utf8'\n",
    ")\n",
    "\n",
    "cursor = conn.cursor(pymysql.cursors.DictCursor)"
   ]
  },
  {
   "cell_type": "code",
   "execution_count": 76,
   "metadata": {},
   "outputs": [],
   "source": [
    "# # 0. Databse 삭제 (있으면 삭제)\n",
    "# try:\n",
    "#     cursor.execute(sql_0)\n",
    "# except Exception as e:\n",
    "#     print(e)\n",
    "\n",
    "# # 1. Database 생성\n",
    "# cursor.execute(sql_1)\n",
    "# cursor.close()"
   ]
  },
  {
   "cell_type": "code",
   "execution_count": 77,
   "metadata": {},
   "outputs": [],
   "source": [
    "# # 2. Table 생성\n",
    "# conn = connection.MySQLConnection(\n",
    "#     # user     = \"root\",\n",
    "#     # password = \"admin\",\n",
    "#     # host     = \"192.168.208.1\",\n",
    "#     # database = \"drone_project\"\n",
    "#     user     = \"bbongs\",\n",
    "#     password = \"Qweasd123$\",\n",
    "#     host     = \"219.251.99.114\",\n",
    "#     database = \"drone_project\"\n",
    "# )\n",
    "# cur = conn.cursor()\n",
    "# cur.execute(sql_2)\n",
    "# cur.execute(sql_3)\n",
    "# conn.close()"
   ]
  },
  {
   "cell_type": "code",
   "execution_count": 78,
   "metadata": {},
   "outputs": [],
   "source": [
    "# 3. data 추가 \n",
    "insert_data2 = [{'id': 0, 'name': 'zero', 'email_address': 'test0@naver.com'},\n",
    "                {'id': 1, 'name': 'one', 'email_address': 'test1@naver.com'},\n",
    "                {'id': 2, 'name': 'two', 'email_address': 'test2@naver.com'}]\n",
    "insert_sql2 = \"INSERT INTO `customer` VALUES (%(id)s, %(name)s, %(email_address)s);\"\n",
    "cursor.executemany(insert_sql2, insert_data2)\n",
    "conn.commit()"
   ]
  },
  {
   "cell_type": "code",
   "execution_count": 85,
   "metadata": {},
   "outputs": [
    {
     "name": "stdout",
     "output_type": "stream",
     "text": [
      "(0, 'zero', 'test0@naver.com')\n",
      "(1, 'one', 'test1@naver.com')\n",
      "(2, 'two', 'test2@naver.com')\n",
      "(0, 'zero', 'test0@naver.com')\n",
      "(1, 'one', 'test1@naver.com')\n",
      "(2, 'two', 'test2@naver.com')\n",
      "(0, 'zero', 'test0@naver.com')\n",
      "(1, 'one', 'test1@naver.com')\n",
      "(2, 'two', 'test2@naver.com')\n"
     ]
    }
   ],
   "source": [
    "# 4. table 읽어오기\n",
    "sql = \"SELECT * FROM customer\" \n",
    "with conn:\n",
    "    with conn.cursor() as cur:\n",
    "        cur.execute(sql)\n",
    "        result = cur.fetchall()\n",
    "        for data in result:\n",
    "            print(data)\n",
    "# (2) ------------------------------------------\n",
    "# select_sql = \"select * from customer\"\n",
    "# cursor.execute(select_sql)\n",
    "# result = cursor.fetchall()\n",
    "# print(result)"
   ]
  },
  {
   "cell_type": "code",
   "execution_count": 137,
   "metadata": {},
   "outputs": [
    {
     "ename": "ProgrammingError",
     "evalue": "(1064, \"You have an error in your SQL syntax; check the manual that corresponds to your MariaDB server version for the right syntax to use near ''webcam' (id, label, num, time, latitude, longitude) VALUES ('\\ufeffid', 'label'...' at line 1\")",
     "output_type": "error",
     "traceback": [
      "\u001b[1;31m---------------------------------------------------------------------------\u001b[0m",
      "\u001b[1;31mProgrammingError\u001b[0m                          Traceback (most recent call last)",
      "Cell \u001b[1;32mIn[137], line 22\u001b[0m\n\u001b[0;32m     14\u001b[0m     \u001b[39m# print(id)\u001b[39;00m\n\u001b[0;32m     15\u001b[0m     \u001b[39m# print(label)\u001b[39;00m\n\u001b[0;32m     16\u001b[0m     \u001b[39m# print(num)\u001b[39;00m\n\u001b[1;32m   (...)\u001b[0m\n\u001b[0;32m     19\u001b[0m     \u001b[39m# print(longitude)\u001b[39;00m\n\u001b[0;32m     20\u001b[0m     \u001b[39m# sql = \"INSERT INTO `webcam` VALUES (%(id)s, %(label)s, %(num)s, %(time)s, %(latitude)s, %(longitude)s);\"\u001b[39;00m\n\u001b[0;32m     21\u001b[0m     sql \u001b[39m=\u001b[39m \u001b[39m\"\u001b[39m\u001b[39mINSERT INTO \u001b[39m\u001b[39m'\u001b[39m\u001b[39mwebcam\u001b[39m\u001b[39m'\u001b[39m\u001b[39m (id, label, num, time, latitude, longitude) VALUES (\u001b[39m\u001b[39m%s\u001b[39;00m\u001b[39m, \u001b[39m\u001b[39m%s\u001b[39;00m\u001b[39m, \u001b[39m\u001b[39m%s\u001b[39;00m\u001b[39m, \u001b[39m\u001b[39m%s\u001b[39;00m\u001b[39m, \u001b[39m\u001b[39m%s\u001b[39;00m\u001b[39m, \u001b[39m\u001b[39m%s\u001b[39;00m\u001b[39m)\u001b[39m\u001b[39m\"\u001b[39m\n\u001b[1;32m---> 22\u001b[0m     cursor\u001b[39m.\u001b[39;49mexecute(sql, (\u001b[39mid\u001b[39;49m, label, num, time, latitude, longitude))\n\u001b[0;32m     24\u001b[0m \u001b[39m# DB의 변화 저장\u001b[39;00m\n\u001b[0;32m     25\u001b[0m conn\u001b[39m.\u001b[39mcommit()\n",
      "File \u001b[1;32mc:\\Users\\yuyeon\\anaconda3\\envs\\study\\lib\\site-packages\\pymysql\\cursors.py:148\u001b[0m, in \u001b[0;36mCursor.execute\u001b[1;34m(self, query, args)\u001b[0m\n\u001b[0;32m    144\u001b[0m     \u001b[39mpass\u001b[39;00m\n\u001b[0;32m    146\u001b[0m query \u001b[39m=\u001b[39m \u001b[39mself\u001b[39m\u001b[39m.\u001b[39mmogrify(query, args)\n\u001b[1;32m--> 148\u001b[0m result \u001b[39m=\u001b[39m \u001b[39mself\u001b[39;49m\u001b[39m.\u001b[39;49m_query(query)\n\u001b[0;32m    149\u001b[0m \u001b[39mself\u001b[39m\u001b[39m.\u001b[39m_executed \u001b[39m=\u001b[39m query\n\u001b[0;32m    150\u001b[0m \u001b[39mreturn\u001b[39;00m result\n",
      "File \u001b[1;32mc:\\Users\\yuyeon\\anaconda3\\envs\\study\\lib\\site-packages\\pymysql\\cursors.py:310\u001b[0m, in \u001b[0;36mCursor._query\u001b[1;34m(self, q)\u001b[0m\n\u001b[0;32m    308\u001b[0m \u001b[39mself\u001b[39m\u001b[39m.\u001b[39m_last_executed \u001b[39m=\u001b[39m q\n\u001b[0;32m    309\u001b[0m \u001b[39mself\u001b[39m\u001b[39m.\u001b[39m_clear_result()\n\u001b[1;32m--> 310\u001b[0m conn\u001b[39m.\u001b[39;49mquery(q)\n\u001b[0;32m    311\u001b[0m \u001b[39mself\u001b[39m\u001b[39m.\u001b[39m_do_get_result()\n\u001b[0;32m    312\u001b[0m \u001b[39mreturn\u001b[39;00m \u001b[39mself\u001b[39m\u001b[39m.\u001b[39mrowcount\n",
      "File \u001b[1;32mc:\\Users\\yuyeon\\anaconda3\\envs\\study\\lib\\site-packages\\pymysql\\connections.py:548\u001b[0m, in \u001b[0;36mConnection.query\u001b[1;34m(self, sql, unbuffered)\u001b[0m\n\u001b[0;32m    546\u001b[0m     sql \u001b[39m=\u001b[39m sql\u001b[39m.\u001b[39mencode(\u001b[39mself\u001b[39m\u001b[39m.\u001b[39mencoding, \u001b[39m\"\u001b[39m\u001b[39msurrogateescape\u001b[39m\u001b[39m\"\u001b[39m)\n\u001b[0;32m    547\u001b[0m \u001b[39mself\u001b[39m\u001b[39m.\u001b[39m_execute_command(COMMAND\u001b[39m.\u001b[39mCOM_QUERY, sql)\n\u001b[1;32m--> 548\u001b[0m \u001b[39mself\u001b[39m\u001b[39m.\u001b[39m_affected_rows \u001b[39m=\u001b[39m \u001b[39mself\u001b[39;49m\u001b[39m.\u001b[39;49m_read_query_result(unbuffered\u001b[39m=\u001b[39;49munbuffered)\n\u001b[0;32m    549\u001b[0m \u001b[39mreturn\u001b[39;00m \u001b[39mself\u001b[39m\u001b[39m.\u001b[39m_affected_rows\n",
      "File \u001b[1;32mc:\\Users\\yuyeon\\anaconda3\\envs\\study\\lib\\site-packages\\pymysql\\connections.py:775\u001b[0m, in \u001b[0;36mConnection._read_query_result\u001b[1;34m(self, unbuffered)\u001b[0m\n\u001b[0;32m    773\u001b[0m \u001b[39melse\u001b[39;00m:\n\u001b[0;32m    774\u001b[0m     result \u001b[39m=\u001b[39m MySQLResult(\u001b[39mself\u001b[39m)\n\u001b[1;32m--> 775\u001b[0m     result\u001b[39m.\u001b[39;49mread()\n\u001b[0;32m    776\u001b[0m \u001b[39mself\u001b[39m\u001b[39m.\u001b[39m_result \u001b[39m=\u001b[39m result\n\u001b[0;32m    777\u001b[0m \u001b[39mif\u001b[39;00m result\u001b[39m.\u001b[39mserver_status \u001b[39mis\u001b[39;00m \u001b[39mnot\u001b[39;00m \u001b[39mNone\u001b[39;00m:\n",
      "File \u001b[1;32mc:\\Users\\yuyeon\\anaconda3\\envs\\study\\lib\\site-packages\\pymysql\\connections.py:1156\u001b[0m, in \u001b[0;36mMySQLResult.read\u001b[1;34m(self)\u001b[0m\n\u001b[0;32m   1154\u001b[0m \u001b[39mdef\u001b[39;00m \u001b[39mread\u001b[39m(\u001b[39mself\u001b[39m):\n\u001b[0;32m   1155\u001b[0m     \u001b[39mtry\u001b[39;00m:\n\u001b[1;32m-> 1156\u001b[0m         first_packet \u001b[39m=\u001b[39m \u001b[39mself\u001b[39;49m\u001b[39m.\u001b[39;49mconnection\u001b[39m.\u001b[39;49m_read_packet()\n\u001b[0;32m   1158\u001b[0m         \u001b[39mif\u001b[39;00m first_packet\u001b[39m.\u001b[39mis_ok_packet():\n\u001b[0;32m   1159\u001b[0m             \u001b[39mself\u001b[39m\u001b[39m.\u001b[39m_read_ok_packet(first_packet)\n",
      "File \u001b[1;32mc:\\Users\\yuyeon\\anaconda3\\envs\\study\\lib\\site-packages\\pymysql\\connections.py:725\u001b[0m, in \u001b[0;36mConnection._read_packet\u001b[1;34m(self, packet_type)\u001b[0m\n\u001b[0;32m    723\u001b[0m     \u001b[39mif\u001b[39;00m \u001b[39mself\u001b[39m\u001b[39m.\u001b[39m_result \u001b[39mis\u001b[39;00m \u001b[39mnot\u001b[39;00m \u001b[39mNone\u001b[39;00m \u001b[39mand\u001b[39;00m \u001b[39mself\u001b[39m\u001b[39m.\u001b[39m_result\u001b[39m.\u001b[39munbuffered_active \u001b[39mis\u001b[39;00m \u001b[39mTrue\u001b[39;00m:\n\u001b[0;32m    724\u001b[0m         \u001b[39mself\u001b[39m\u001b[39m.\u001b[39m_result\u001b[39m.\u001b[39munbuffered_active \u001b[39m=\u001b[39m \u001b[39mFalse\u001b[39;00m\n\u001b[1;32m--> 725\u001b[0m     packet\u001b[39m.\u001b[39;49mraise_for_error()\n\u001b[0;32m    726\u001b[0m \u001b[39mreturn\u001b[39;00m packet\n",
      "File \u001b[1;32mc:\\Users\\yuyeon\\anaconda3\\envs\\study\\lib\\site-packages\\pymysql\\protocol.py:221\u001b[0m, in \u001b[0;36mMysqlPacket.raise_for_error\u001b[1;34m(self)\u001b[0m\n\u001b[0;32m    219\u001b[0m \u001b[39mif\u001b[39;00m DEBUG:\n\u001b[0;32m    220\u001b[0m     \u001b[39mprint\u001b[39m(\u001b[39m\"\u001b[39m\u001b[39merrno =\u001b[39m\u001b[39m\"\u001b[39m, errno)\n\u001b[1;32m--> 221\u001b[0m err\u001b[39m.\u001b[39;49mraise_mysql_exception(\u001b[39mself\u001b[39;49m\u001b[39m.\u001b[39;49m_data)\n",
      "File \u001b[1;32mc:\\Users\\yuyeon\\anaconda3\\envs\\study\\lib\\site-packages\\pymysql\\err.py:143\u001b[0m, in \u001b[0;36mraise_mysql_exception\u001b[1;34m(data)\u001b[0m\n\u001b[0;32m    141\u001b[0m \u001b[39mif\u001b[39;00m errorclass \u001b[39mis\u001b[39;00m \u001b[39mNone\u001b[39;00m:\n\u001b[0;32m    142\u001b[0m     errorclass \u001b[39m=\u001b[39m InternalError \u001b[39mif\u001b[39;00m errno \u001b[39m<\u001b[39m \u001b[39m1000\u001b[39m \u001b[39melse\u001b[39;00m OperationalError\n\u001b[1;32m--> 143\u001b[0m \u001b[39mraise\u001b[39;00m errorclass(errno, errval)\n",
      "\u001b[1;31mProgrammingError\u001b[0m: (1064, \"You have an error in your SQL syntax; check the manual that corresponds to your MariaDB server version for the right syntax to use near ''webcam' (id, label, num, time, latitude, longitude) VALUES ('\\ufeffid', 'label'...' at line 1\")"
     ]
    }
   ],
   "source": [
    "# 5. 데이터 csv, txt 파일 업로드\n",
    "# CSV 파일 경로...\n",
    "f = open('C:/Users/yuyeon/Documents/GitHub/yolov5-team2/yolov5-team2/yolov5-master/code/test.csv', 'r')\n",
    "csvReader = csv.reader(f)\n",
    "\n",
    "# 컬럼 매핑\n",
    "for row in csvReader:\n",
    "    id = (row[0])\n",
    "    label = (row[1])\n",
    "    num = (row[2])\n",
    "    time = (row[3])\n",
    "    latitude = (row[4])\n",
    "    longitude = (row[5])\n",
    "    print(id)\n",
    "    print(label)\n",
    "    print(num)\n",
    "    print(time)\n",
    "    print(latitude)\n",
    "    print(longitude)\n",
    "    # sql = \"INSERT INTO `webcam` VALUES (%(id)s, %(label)s, %(num)s, %(time)s, %(latitude)s, %(longitude)s);\"\n",
    "    sql = \"INSERT INTO 'webcam' (id, label, num, time, latitude, longitude) VALUES (%s, %s, %s, %s, %s, %s)\"\n",
    "    cursor.execute(sql, (id, label, num, time, latitude, longitude))\n",
    "\n",
    "# DB의 변화 저장\n",
    "conn.commit()\n",
    "f.close()\n",
    "conn.close()"
   ]
  },
  {
   "cell_type": "code",
   "execution_count": null,
   "metadata": {},
   "outputs": [],
   "source": []
  }
 ],
 "metadata": {
  "kernelspec": {
   "display_name": "study",
   "language": "python",
   "name": "python3"
  },
  "language_info": {
   "codemirror_mode": {
    "name": "ipython",
    "version": 3
   },
   "file_extension": ".py",
   "mimetype": "text/x-python",
   "name": "python",
   "nbconvert_exporter": "python",
   "pygments_lexer": "ipython3",
   "version": "3.9.15"
  },
  "orig_nbformat": 4,
  "vscode": {
   "interpreter": {
    "hash": "f3a08e897ccff299bb76221425d14d75b550316cd09d5783ae323c816e801948"
   }
  }
 },
 "nbformat": 4,
 "nbformat_minor": 2
}
