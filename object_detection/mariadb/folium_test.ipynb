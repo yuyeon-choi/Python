{
 "cells": [
  {
   "cell_type": "code",
   "execution_count": null,
   "metadata": {},
   "outputs": [],
   "source": [
    "import folium\n",
    "\n",
    "m = folium.Map(location=[37.53897093698831, 127.05461953077439], \n",
    "               zoom_start=14)\n",
    "# icon basic\n",
    "folium.Marker([37.54706945947954, 127.04740975332888],\n",
    "              icon=folium.Icon(color='black', icon='info-sign')).add_to(m)\n",
    "# icon color\n",
    "folium.Marker(\n",
    "    [37.54461957910074, 127.05590699103249], \n",
    "    popup=\"<a href='https://zero-base.co.kr/' target=_'blink'>마커</a>\",\n",
    "    tooltip='Zerobase',\n",
    "    icon=folium.Icon(\n",
    "        color='red',\n",
    "        icon_color='blue',\n",
    "        icon='cloud'\n",
    "    )\n",
    ").add_to(m)\n",
    "\n",
    "# icon custom\n",
    "folium.Marker(\n",
    "    [37.54041716624373, 127.06914637466906], \n",
    "    popup='<b>subway</b>',\n",
    "    tooltip='Icon custom',\n",
    "    icon=folium.Icon(\n",
    "        color='purple',\n",
    "        icon_color='white',\n",
    "        icon='glyphicon glyphicon-thumbs-up', # googledp glyphicon 검색해서 관련된 코드 제공해주는 사이트들 참고해서 원하는 것 가져오기\n",
    "        prefix='glyphicon'\n",
    "    )\n",
    ").add_to(m)\n",
    "\n",
    "m"
   ]
  }
 ],
 "metadata": {
  "kernelspec": {
   "display_name": "study",
   "language": "python",
   "name": "python3"
  },
  "language_info": {
   "name": "python",
   "version": "3.9.15"
  },
  "orig_nbformat": 4
 },
 "nbformat": 4,
 "nbformat_minor": 2
}
