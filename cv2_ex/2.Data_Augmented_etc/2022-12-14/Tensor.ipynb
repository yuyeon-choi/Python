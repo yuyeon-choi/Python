{
 "cells": [
  {
   "attachments": {},
   "cell_type": "markdown",
   "metadata": {},
   "source": [
    "# Tensor\n",
    "\n",
    "파이토치에서 사용하는 데이터표현을 위한 기본 구조\n",
    "텐서는 데이터를 담기위한 컨테이너로서 일반적으로 수치형 데이터를 저장 \n",
    "넘파이와, ndarray와 유사 "
   ]
  },
  {
   "attachments": {},
   "cell_type": "markdown",
   "metadata": {},
   "source": [
    "## 함수 검색 참고 사이트\n",
    "### Runebook.dev\n",
    "https://runebook.dev/ko/docs/pytorch/generated/torch.rand_like"
   ]
  },
  {
   "attachments": {},
   "cell_type": "markdown",
   "metadata": {},
   "source": [
    "## ● Tensor 생성   \n",
    "\n",
    "### 랜덤한 값을 가지는 텐서 생성\n",
    "1. torch.rand() : 0과 1 사이의 숫자를 균등하게 생성\n",
    "2. torch.rand_like() : 사이즈를 튜플로 입력하지 않고 기존의 텐서로 정의\n",
    "3. torch.randn() : 평균이 0이고 표준편차가 1인 가우시안 정규분포를 이용해 생성\n",
    "4. torch.randn_like() :  사이즈를 튜플로 입력하지 않고 기존의 텐서로 정의\n",
    "5. torch.randint() : 주어진 범위 내의 정수를 균등하게 생성, 자료형은 torch.float32\n",
    "6. torch.randint_like() : 사이즈를 튜플로 입력하지 않고 기존의 텐서로 정의\n",
    "7. torch.randperm() : 주어진 범위 내의 정수를 랜덤하게 생성\n",
    "8. torch.manual_seed() : 랜덤 생성에 사용되는 시드(seed)를 설정한다.\n",
    "9. torch.empty() : 특정한 값으로 초기화를 하지 않는 행렬을 만들 때 사용한다."
   ]
  },
  {
   "attachments": {},
   "cell_type": "markdown",
   "metadata": {},
   "source": [
    "### 특정한 값을 가지는 텐서 생성\n",
    "1. torch.arange() : 주어진 범위 내의 정수를 순서대로 생성\n",
    "2. torch.ones() : 주어진 사이즈의 1로 이루어진 텐서 생성\n",
    "3. torch.zeros() : 주어진 사이즈의 0으로 이루어진 텐서 생성\n",
    "4. torch.ones_like() : 사이즈를 튜플로 입력하지 않고 기존의 텐서로 정의\n",
    "5. torch.zeros_like() : 사이즈를 튜플로 입력하지 않고 기존의 텐서로 정의\n",
    "6. torch.linspace() : 시작점과 끝점을 주어진 갯수만큼 균등하게 나눈 간격점을 행벡터로 출력\n",
    "7. torch.logspace() : 시작점과 끝점을 주어진 갯수만큼 로그간격으로 나눈 간격점을 행벡터로 출력"
   ]
  }
 ],
 "metadata": {
  "kernelspec": {
   "display_name": "study",
   "language": "python",
   "name": "python3"
  },
  "language_info": {
   "name": "python",
   "version": "3.9.12 (main, Apr  4 2022, 05:22:27) [MSC v.1916 64 bit (AMD64)]"
  },
  "orig_nbformat": 4,
  "vscode": {
   "interpreter": {
    "hash": "f3a08e897ccff299bb76221425d14d75b550316cd09d5783ae323c816e801948"
   }
  }
 },
 "nbformat": 4,
 "nbformat_minor": 2
}
