{
 "cells": [
  {
   "attachments": {},
   "cell_type": "markdown",
   "metadata": {},
   "source": [
    "# Create COCO\n",
    "## https://www.immersivelimit.com/tutorials/create-coco-annotations-from-scratch\n",
    "\n",
    "\n",
    "## 1. COCO DATASET FORMAT\n",
    "\n",
    "## [LICENSE]\n",
    "### 필요시에만 넣기 꼭 넣을 필요없음."
   ]
  },
  {
   "cell_type": "code",
   "execution_count": 8,
   "metadata": {},
   "outputs": [
    {
     "data": {
      "text/plain": [
       "'\\n\"licenses\": [   \\n    {   \\n        \"url\": \"http://creativecommons.org/licenses/by-nc-sa/2.0/\",   \\n        \"id\": 1,   \\n        \"name\": \"Attribution-NonCommercial-ShareAlike License\"   \\n    },   \\n    {   \\n        \"url\": \"http://creativecommons.org/licenses/by-nc/2.0/\",   \\n        \"id\": 2,   \\n        \"name\": \"Attribution-NonCommercial License\"   \\n    },   \\n    ...   \\n]   \\n'"
      ]
     },
     "execution_count": 8,
     "metadata": {},
     "output_type": "execute_result"
    }
   ],
   "source": [
    "'''\n",
    "\"licenses\": [   \n",
    "    {   \n",
    "        \"url\": \"http://creativecommons.org/licenses/by-nc-sa/2.0/\",   \n",
    "        \"id\": 1,   \n",
    "        \"name\": \"Attribution-NonCommercial-ShareAlike License\"   \n",
    "    },   \n",
    "    {   \n",
    "        \"url\": \"http://creativecommons.org/licenses/by-nc/2.0/\",   \n",
    "        \"id\": 2,   \n",
    "        \"name\": \"Attribution-NonCommercial License\"   \n",
    "    },   \n",
    "    ...   \n",
    "]   \n",
    "'''"
   ]
  },
  {
   "attachments": {},
   "cell_type": "markdown",
   "metadata": {},
   "source": [
    "## [IMAGE]   \n",
    "### 사용 시 꼭 넣어야함 (coco_url/ date_captured/ flickr_url 필요없음)"
   ]
  },
  {
   "cell_type": "code",
   "execution_count": 9,
   "metadata": {},
   "outputs": [
    {
     "data": {
      "text/plain": [
       "'\\n\"images\": [\\n    {\\n        \"license\": 4,\\n        \"file_name\": \"000000397133.jpg\",\\n        # \"coco_url\": \"http://images.cocodataset.org/val2017/000000397133.jpg\",\\n        \"height\": 427,\\n        \"width\": 640,\\n        # \"date_captured\": \"2013-11-14 17:02:52\",\\n        # \"flickr_url\": \"http://farm7.staticflickr.com/6116/6255196340_da26cf2c9e_z.jpg\",\\n        \"id\": 397133\\n    },\\n    {\\n        \"license\": 1,\\n        \"file_name\": \"000000037777.jpg\",\\n        \"coco_url\": \"http://images.cocodataset.org/val2017/000000037777.jpg\",\\n        \"height\": 230,\\n        \"width\": 352,\\n        \"date_captured\": \"2013-11-14 20:55:31\",\\n        \"flickr_url\": \"http://farm9.staticflickr.com/8429/7839199426_f6d48aa585_z.jpg\",\\n        \"id\": 37777\\n    },\\n    ...\\n]\\n'"
      ]
     },
     "execution_count": 9,
     "metadata": {},
     "output_type": "execute_result"
    }
   ],
   "source": [
    "'''\n",
    "\"images\": [\n",
    "    {\n",
    "        \"license\": 4,\n",
    "        \"file_name\": \"000000397133.jpg\",\n",
    "        # \"coco_url\": \"http://images.cocodataset.org/val2017/000000397133.jpg\",\n",
    "        \"height\": 427,\n",
    "        \"width\": 640,\n",
    "        # \"date_captured\": \"2013-11-14 17:02:52\",\n",
    "        # \"flickr_url\": \"http://farm7.staticflickr.com/6116/6255196340_da26cf2c9e_z.jpg\",\n",
    "        \"id\": 397133\n",
    "    },\n",
    "    {\n",
    "        \"license\": 1,\n",
    "        \"file_name\": \"000000037777.jpg\",\n",
    "        \"coco_url\": \"http://images.cocodataset.org/val2017/000000037777.jpg\",\n",
    "        \"height\": 230,\n",
    "        \"width\": 352,\n",
    "        \"date_captured\": \"2013-11-14 20:55:31\",\n",
    "        \"flickr_url\": \"http://farm9.staticflickr.com/8429/7839199426_f6d48aa585_z.jpg\",\n",
    "        \"id\": 37777\n",
    "    },\n",
    "    ...\n",
    "]\n",
    "'''"
   ]
  },
  {
   "attachments": {},
   "cell_type": "markdown",
   "metadata": {},
   "source": [
    "## [CATEGORIES] \n",
    "### The original COCO dataset contains 90 categories."
   ]
  },
  {
   "cell_type": "code",
   "execution_count": 10,
   "metadata": {},
   "outputs": [
    {
     "data": {
      "text/plain": [
       "'\\n\"categories\": [\\n    {\"supercategory\": \"person\",\"id\": 1,\"name\": \"person\"},\\n    {\"supercategory\": \"vehicle\",\"id\": 2,\"name\": \"bicycle\"},\\n    {\"supercategory\": \"vehicle\",\"id\": 3,\"name\": \"car\"},\\n    {\"supercategory\": \"vehicle\",\"id\": 4,\"name\": \"motorcycle\"},\\n    {\"supercategory\": \"vehicle\",\"id\": 5,\"name\": \"airplane\"},\\n    ...\\n    {\"supercategory\": \"indoor\",\"id\": 89,\"name\": \"hair drier\"},\\n    {\"supercategory\": \"indoor\",\"id\": 90,\"name\": \"toothbrush\"}\\n]\\n'"
      ]
     },
     "execution_count": 10,
     "metadata": {},
     "output_type": "execute_result"
    }
   ],
   "source": [
    "'''\n",
    "\"categories\": [\n",
    "    {\"supercategory\": \"person\",\"id\": 1,\"name\": \"person\"},\n",
    "    {\"supercategory\": \"vehicle\",\"id\": 2,\"name\": \"bicycle\"},\n",
    "    {\"supercategory\": \"vehicle\",\"id\": 3,\"name\": \"car\"},\n",
    "    {\"supercategory\": \"vehicle\",\"id\": 4,\"name\": \"motorcycle\"},\n",
    "    {\"supercategory\": \"vehicle\",\"id\": 5,\"name\": \"airplane\"},\n",
    "    ...\n",
    "    {\"supercategory\": \"indoor\",\"id\": 89,\"name\": \"hair drier\"},\n",
    "    {\"supercategory\": \"indoor\",\"id\": 90,\"name\": \"toothbrush\"}\n",
    "]\n",
    "'''"
   ]
  },
  {
   "attachments": {},
   "cell_type": "markdown",
   "metadata": {},
   "source": [
    "## [ANNOTATIONS]"
   ]
  },
  {
   "cell_type": "code",
   "execution_count": 11,
   "metadata": {},
   "outputs": [
    {
     "data": {
      "text/plain": [
       "'\\n\"annotations\": [\\n    {\\n        \"segmentation\": [[510.66,423.01,511.72,420.03,...,510.45,423.01]],\\n        \"area\": 702.1057499999998,\\n        \"iscrowd\": 0,\\n        \"image_id\": 289343,     # 넘버링 순서\\n        \"bbox\": [473.07,395.93,38.65,28.67],\\n        \"category_id\": 18,      # 라벨 번호\\n        \"id\": 1768\\n    },\\n    ...\\n    {\\n        \"segmentation\": {\\n            \"counts\": [179,27,392,41,…,55,20],\\n            \"size\": [426,640]\\n        },\\n        \"area\": 220834,\\n        \"iscrowd\": 1,\\n        \"image_id\": 250282,\\n        \"bbox\": [0,34,639,388],\\n        \"category_id\": 1,\\n        \"id\": 900100250282\\n    }\\n]\\n'"
      ]
     },
     "execution_count": 11,
     "metadata": {},
     "output_type": "execute_result"
    }
   ],
   "source": [
    "'''\n",
    "\"annotations\": [\n",
    "    {\n",
    "        \"segmentation\": [[510.66,423.01,511.72,420.03,...,510.45,423.01]],\n",
    "        \"area\": 702.1057499999998,\n",
    "        \"iscrowd\": 0,\n",
    "        \"image_id\": 289343,     # 넘버링 순서\n",
    "        \"bbox\": [473.07,395.93,38.65,28.67],\n",
    "        \"category_id\": 18,      # 라벨 번호\n",
    "        \"id\": 1768\n",
    "    },\n",
    "    ...\n",
    "    {\n",
    "        \"segmentation\": {\n",
    "            \"counts\": [179,27,392,41,…,55,20],\n",
    "            \"size\": [426,640]\n",
    "        },\n",
    "        \"area\": 220834,\n",
    "        \"iscrowd\": 1,\n",
    "        \"image_id\": 250282,\n",
    "        \"bbox\": [0,34,639,388],\n",
    "        \"category_id\": 1,\n",
    "        \"id\": 900100250282\n",
    "    }\n",
    "]\n",
    "'''"
   ]
  },
  {
   "attachments": {},
   "cell_type": "markdown",
   "metadata": {},
   "source": [
    "# 2. KEYPOINT DETECTION FORMAT\n",
    "\n",
    "## [CATEGORIES]"
   ]
  },
  {
   "cell_type": "code",
   "execution_count": 12,
   "metadata": {},
   "outputs": [
    {
     "data": {
      "text/plain": [
       "'\\n\"categories\": [\\n    {\\n        \"supercategory\": \"person\",\\n        \"id\": 1,\\n        \"name\": \"person\",\\n        \"keypoints\": [\\n            \"nose\",\"left_eye\",\"right_eye\",\"left_ear\",\"right_ear\",\\n            \"left_shoulder\",\"right_shoulder\",\"left_elbow\",\"right_elbow\",\\n            \"left_wrist\",\"right_wrist\",\"left_hip\",\"right_hip\",\\n            \"left_knee\",\"right_knee\",\"left_ankle\",\"right_ankle\"\\n        ],\\n        \"skeleton\": [\\n            [16,14],[14,12],[17,15],[15,13],[12,13],[6,12],[7,13],[6,7],\\n            [6,8],[7,9],[8,10],[9,11],[2,3],[1,2],[1,3],[2,4],[3,5],[4,6],[5,7]\\n        ]\\n    }\\n]\\n'"
      ]
     },
     "execution_count": 12,
     "metadata": {},
     "output_type": "execute_result"
    }
   ],
   "source": [
    "'''\n",
    "\"categories\": [\n",
    "    {\n",
    "        \"supercategory\": \"person\",\n",
    "        \"id\": 1,\n",
    "        \"name\": \"person\",\n",
    "        \"keypoints\": [\n",
    "            \"nose\",\"left_eye\",\"right_eye\",\"left_ear\",\"right_ear\",\n",
    "            \"left_shoulder\",\"right_shoulder\",\"left_elbow\",\"right_elbow\",\n",
    "            \"left_wrist\",\"right_wrist\",\"left_hip\",\"right_hip\",\n",
    "            \"left_knee\",\"right_knee\",\"left_ankle\",\"right_ankle\"\n",
    "        ],\n",
    "        \"skeleton\": [\n",
    "            [16,14],[14,12],[17,15],[15,13],[12,13],[6,12],[7,13],[6,7],\n",
    "            [6,8],[7,9],[8,10],[9,11],[2,3],[1,2],[1,3],[2,4],[3,5],[4,6],[5,7]\n",
    "        ]\n",
    "    }\n",
    "]\n",
    "'''"
   ]
  },
  {
   "attachments": {},
   "cell_type": "markdown",
   "metadata": {},
   "source": [
    "## [ANNOTATIONS]\n",
    "\n",
    "### Annotations for keypoints are just like in Object Detection (Segmentation) above, except a number of keypoints is specified in sets of 3, (x, y, v).\n",
    "### To use 2d, specify the number of keypoints as 2(x, y) sets."
   ]
  },
  {
   "cell_type": "code",
   "execution_count": 13,
   "metadata": {},
   "outputs": [
    {
     "data": {
      "text/plain": [
       "'\\n\"annotations\": [\\n    {\\n        \"segmentation\": [[204.01,306.23,...206.53,307.95]],\\n        \"num_keypoints\": 15,\\n        \"area\": 5463.6864,\\n        \"iscrowd\": 0,\\n        \"keypoints\": [229,256,2,...,223,369,2],\\n        \"image_id\": 289343,\\n        \"bbox\": [204.01,235.08,60.84,177.36],\\n        \"category_id\": 1,\\n        \"id\": 201376\\n    }\\n]\\n'"
      ]
     },
     "execution_count": 13,
     "metadata": {},
     "output_type": "execute_result"
    }
   ],
   "source": [
    "'''\n",
    "\"annotations\": [\n",
    "    {\n",
    "        \"segmentation\": [[204.01,306.23,...206.53,307.95]],\n",
    "        \"num_keypoints\": 15,\n",
    "        \"area\": 5463.6864,\n",
    "        \"iscrowd\": 0,\n",
    "        \"keypoints\": [229,256,2,...,223,369,2],\n",
    "        \"image_id\": 289343,\n",
    "        \"bbox\": [204.01,235.08,60.84,177.36],\n",
    "        \"category_id\": 1,\n",
    "        \"id\": 201376\n",
    "    }\n",
    "]\n",
    "'''"
   ]
  },
  {
   "attachments": {},
   "cell_type": "markdown",
   "metadata": {},
   "source": [
    "## [IMAGE CAPTIONING]"
   ]
  },
  {
   "cell_type": "code",
   "execution_count": 14,
   "metadata": {},
   "outputs": [
    {
     "data": {
      "text/plain": [
       "'\\n\"annotations\": [\\n    {\\n        \"image_id\": 289343,\\n        \"id\": 433580,\\n        \"caption\": \"A person riding a very tall bike in the street.\"\\n    },\\n    ...\\n    {\\n        \"image_id\": 250282,\\n        \"id\": 511309,\\n        \"caption\": \"A group of school children posing for a picture. \"\\n    },\\n]\\n'"
      ]
     },
     "execution_count": 14,
     "metadata": {},
     "output_type": "execute_result"
    }
   ],
   "source": [
    "'''\n",
    "\"annotations\": [\n",
    "    {\n",
    "        \"image_id\": 289343,\n",
    "        \"id\": 433580,\n",
    "        \"caption\": \"A person riding a very tall bike in the street.\"\n",
    "    },\n",
    "    ...\n",
    "    {\n",
    "        \"image_id\": 250282,\n",
    "        \"id\": 511309,\n",
    "        \"caption\": \"A group of school children posing for a picture. \"\n",
    "    },\n",
    "]\n",
    "'''"
   ]
  }
 ],
 "metadata": {
  "kernelspec": {
   "display_name": "base",
   "language": "python",
   "name": "python3"
  },
  "language_info": {
   "codemirror_mode": {
    "name": "ipython",
    "version": 3
   },
   "file_extension": ".py",
   "mimetype": "text/x-python",
   "name": "python",
   "nbconvert_exporter": "python",
   "pygments_lexer": "ipython3",
   "version": "3.9.12"
  },
  "orig_nbformat": 4,
  "vscode": {
   "interpreter": {
    "hash": "a077222d77dfe082b8f1dd562ad70e458ac2ab76993a0b248ab0476e32e9e8dd"
   }
  }
 },
 "nbformat": 4,
 "nbformat_minor": 2
}
